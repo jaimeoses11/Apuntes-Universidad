{
 "cells": [
  {
   "cell_type": "markdown",
   "metadata": {},
   "source": [
    "# Inf 10_01_2017"
   ]
  },
  {
   "cell_type": "code",
   "execution_count": 16,
   "metadata": {},
   "outputs": [
    {
     "name": "stdout",
     "output_type": "stream",
     "text": [
      "Introduce un número: 4\n",
      "Decrecen con paso 4 las columnas: 2\n",
      "Decrecen con paso 3 las columnas: 0 5 6\n",
      "Decrecen con paso 2 las columnas: Ninguna\n",
      "Decrecen con paso 1 las columnas: 1 4\n"
     ]
    }
   ],
   "source": [
    "### Ejercicio 1\n",
    "\n",
    "def LeeMatriz():\n",
    "    print('Vamos a introducir una matriz',N,'x',N)\n",
    "    m = []\n",
    "    for i in range(N):\n",
    "        fila = input('Mete la fila {}: '.format(i)).split()\n",
    "        for j in range(N):\n",
    "            fila[j] = int(fila[j])\n",
    "        m.append(fila)\n",
    "    return m\n",
    "          \n",
    "def DecreceP(m, p, c):\n",
    "    for i in range(1, N):\n",
    "        if m[i][c] + p != m[i - 1][c]:\n",
    "            return False\n",
    "    return True\n",
    "\n",
    "def ColumnasDecreceP(m, p):\n",
    "    t = []\n",
    "    r = 0\n",
    "    for i in range(N):\n",
    "        if DecreceP(m, p, i):\n",
    "            t.append(i)\n",
    "            r += 1\n",
    "    return t, r\n",
    "\n",
    "def EscribeVector(v, e):\n",
    "    if e == 0:\n",
    "        print(' Ninguna')\n",
    "    else:\n",
    "        for i in range(e):\n",
    "            print('{:2}'.format(v[i]), end='')\n",
    "        print()\n",
    "\n",
    "# PROGRAMA PRINCIPAL ##################\n",
    "\n",
    "N = 7\n",
    "#mOr = [[21, 10, 20, 3 ,8, 11, 4],\n",
    "#     [18, 9, 16, 6, 7, 8, 1],\n",
    "#     [15, 8, 12, 9, 6, 5, -2],\n",
    "#     [12, 7, 8, 2, 5, 2, -5],\n",
    "#     [9, 6, 4, 6, 4, -1, -8],\n",
    "#     [6, 5, 0, 3, 3, -4, -11],\n",
    "#     [3, 4, -4, 7, 2, -7, -14]]  \n",
    "mOr = LeeMatriz()\n",
    "num = int(input('Introduce un número: '))  \n",
    "for i in range(num, 0, -1):\n",
    "    vect, numElem = ColumnasDecreceP(mOr, i)\n",
    "    print('Decrecen con paso',i,'las columnas:',end='')\n",
    "    EscribeVector(vect, numElem)\n"
   ]
  },
  {
   "cell_type": "code",
   "execution_count": 21,
   "metadata": {},
   "outputs": [
    {
     "name": "stdout",
     "output_type": "stream",
     "text": [
      "Vamos a introducir una matriz 4 x 4\n",
      "Mete la fila 0: 2 1 6 3\n",
      "Mete la fila 1: 8 9 1 6\n",
      "Mete la fila 2: 5 8 1 9\n",
      "Mete la fila 3: 2 7 8 2\n",
      "\n",
      "  48  80  43  72\n",
      " 105 139 106  99\n",
      "  97 148 111  90\n",
      " 104 143  43 124\n",
      "\n"
     ]
    }
   ],
   "source": [
    "### Ejercicio 2\n",
    "\n",
    "def LeeMatriz():\n",
    "    print('Vamos a introducir una matriz',N,'x',N)\n",
    "    m = []\n",
    "    for i in range(N):\n",
    "        fila = input('Mete la fila {}: '.format(i)).split()\n",
    "        m.append(fila)\n",
    "    print()\n",
    "    return m\n",
    "          \n",
    "def ExtraeFila(m, f):\n",
    "    return m[f]\n",
    "\n",
    "def ExtraeColumna(m, c):\n",
    "    v = []\n",
    "    for i in range (N):\n",
    "        v.append(m[i][c])\n",
    "    return v\n",
    "\n",
    "def Producto(v, w):\n",
    "    suma = 0\n",
    "    for i in range (len(v)):\n",
    "        suma += int(v[i]) * int(w[i])\n",
    "    return(suma)\n",
    "\n",
    "def CreaMatriz(m):\n",
    "    r = []\n",
    "    for i in range(N):\n",
    "        r.append([0] * N)\n",
    "    for i in range(N):\n",
    "        for j in range(N):\n",
    "            fila = ExtraeFila(m, i)\n",
    "            columna = ExtraeColumna(m, j)\n",
    "            r[i][j] = Producto(fila, columna)\n",
    "    return(r)\n",
    "\n",
    "def EscribeMatriz(m):\n",
    "    for fila in m:\n",
    "        for elem in fila:\n",
    "            print('{:4}'.format(elem), end='')\n",
    "        print()\n",
    "    print()\n",
    "\n",
    "\n",
    "# PROGRAMA PRINCIPAL ##################\n",
    "\n",
    "N = 4 \n",
    "mOr = LeeMatriz()\n",
    "mRes = CreaMatriz(mOr)\n",
    "EscribeMatriz(mRes)\n",
    "# EscribeMatriz(CreaMatriz(LeeMatriz())) # Forma compacta"
   ]
  }
 ],
 "metadata": {
  "kernelspec": {
   "display_name": "Python 3",
   "language": "python",
   "name": "python3"
  },
  "language_info": {
   "codemirror_mode": {
    "name": "ipython",
    "version": 3
   },
   "file_extension": ".py",
   "mimetype": "text/x-python",
   "name": "python",
   "nbconvert_exporter": "python",
   "pygments_lexer": "ipython3",
   "version": "3.6.5"
  }
 },
 "nbformat": 4,
 "nbformat_minor": 2
}
