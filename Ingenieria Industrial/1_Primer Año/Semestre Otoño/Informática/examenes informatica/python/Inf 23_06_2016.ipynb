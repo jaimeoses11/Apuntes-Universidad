{
 "cells": [
  {
   "cell_type": "markdown",
   "metadata": {},
   "source": [
    "# Inf 23_06_2016"
   ]
  },
  {
   "cell_type": "code",
   "execution_count": 9,
   "metadata": {},
   "outputs": [
    {
     "name": "stdout",
     "output_type": "stream",
     "text": [
      "Vamos a introducir una matriz 7 x 7\n",
      "Mete la fila 0: 1 6 4 3 8 2 4\n",
      "Mete la fila 1: 7 3 4 6 1 1 2\n",
      "Mete la fila 2: 5 2 3 9 2 5 2\n",
      "Mete la fila 3: 4 1 5 2 1 3 3\n",
      "Mete la fila 4: 1 3 4 6 2 2 2 \n",
      "Mete la fila 5: 3 1 7 3 1 8 1\n",
      "Mete la fila 6: 7 4 2 7 0 2 0\n",
      "\n",
      "El resultado es: -59\n"
     ]
    }
   ],
   "source": [
    "### Ejercicio 1 \n",
    "### En lugar de 'zona 1, 2, 3...' tomaremos 'zona 0, 1, 2...'\n",
    "### El resultado será el negativo del que aparece en la solución del enunciado\n",
    "\n",
    "def LeeMatriz():\n",
    "    print('Vamos a introducir una matriz',N,'x',N)\n",
    "    m = []\n",
    "    for i in range(N):\n",
    "        fila = input('Mete la fila {}: '.format(i)).split()\n",
    "        for j in range(N):\n",
    "            fila[j] = int(fila[j])\n",
    "        m.append(fila)\n",
    "    print()\n",
    "    return m\n",
    "\n",
    "def SumaZona(m, z):\n",
    "    suma = 0\n",
    "    for i in range(z, N - z):\n",
    "        for j in range(z, N - z):\n",
    "            if i == z or i == N - z - 1 or j == z or j == N - z - 1:\n",
    "                suma += m[i][j]\n",
    "    return suma\n",
    "\n",
    "def VectorSumaZonas(m):\n",
    "    zonas = N // 2 + 1\n",
    "    v = []\n",
    "    for i in range(zonas):\n",
    "        v.append(SumaZona(m, i))\n",
    "    return v\n",
    "                 \n",
    "def EscribeResultado(w):\n",
    "    suma = 0\n",
    "    for i in range(len(w)):\n",
    "        if i % 2 == 1:\n",
    "            suma += w[i]\n",
    "        else:\n",
    "            suma -= w[i]\n",
    "    print('El resultado es:',suma)\n",
    "                 \n",
    "# PROGRAMA PRINCIPAL ##################\n",
    "\n",
    "N = 7 \n",
    "mOr = LeeMatriz()\n",
    "vRes = VectorSumaZonas(mOr)\n",
    "EscribeResultado(vRes)"
   ]
  },
  {
   "cell_type": "code",
   "execution_count": 10,
   "metadata": {},
   "outputs": [
    {
     "name": "stdout",
     "output_type": "stream",
     "text": [
      "Vamos a introducir una matriz de caracteres 7 x 7\n",
      "Mete la fila 0 sin espacios: aMNFfgr\n",
      "Mete la fila 1 sin espacios: rgfADre\n",
      "Mete la fila 2 sin espacios: eroptte\n",
      "Mete la fila 3 sin espacios: etterAB\n",
      "Mete la fila 4 sin espacios: yuerpol\n",
      "Mete la fila 5 sin espacios: loerERT\n",
      "Mete la fila 6 sin espacios: ertyATw\n",
      "\n",
      "rgf\n",
      "er\n",
      "ett\n",
      "\n",
      "lo\n",
      "\n",
      "\n"
     ]
    }
   ],
   "source": [
    "#### Ejercicio 2\n",
    "\n",
    "def LetrasComunes(a, b):\n",
    "    c = []\n",
    "    i = 0\n",
    "    while i < N and  a[i] == b[N - i -1]:\n",
    "        c.append(a[i])\n",
    "        i += 1\n",
    "    return c, len(c)\n",
    "\n",
    "def LeeMatriz():\n",
    "    print('Vamos a introducir una matriz de caracteres',N,'x',N)\n",
    "    m = []\n",
    "    for i in range(N):\n",
    "        fila = input('Mete la fila {} sin espacios: '.format(i))\n",
    "        m.append(list(fila))\n",
    "    print()\n",
    "    return m\n",
    "    \n",
    "def ExtraeFila(m, f):\n",
    "    return m[f]\n",
    "\n",
    "def Coincidencias(m):\n",
    "    for i in range(N -1):\n",
    "        v, t = LetrasComunes(ExtraeFila(m, i + 1), ExtraeFila(m, i))\n",
    "        for j in range(t):\n",
    "            print(v[j], end='')\n",
    "        print()\n",
    "    print()\n",
    "\n",
    "# PROGRAMA PRINCIPAL ##################\n",
    "\n",
    "N = 7 \n",
    "r = LeeMatriz()\n",
    "Coincidencias(r)"
   ]
  }
 ],
 "metadata": {
  "kernelspec": {
   "display_name": "Python 3",
   "language": "python",
   "name": "python3"
  },
  "language_info": {
   "codemirror_mode": {
    "name": "ipython",
    "version": 3
   },
   "file_extension": ".py",
   "mimetype": "text/x-python",
   "name": "python",
   "nbconvert_exporter": "python",
   "pygments_lexer": "ipython3",
   "version": "3.6.5"
  }
 },
 "nbformat": 4,
 "nbformat_minor": 2
}
