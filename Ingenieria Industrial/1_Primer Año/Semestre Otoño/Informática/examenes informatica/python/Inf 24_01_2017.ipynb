{
 "cells": [
  {
   "cell_type": "markdown",
   "metadata": {},
   "source": [
    "# Inf 24_01_2017"
   ]
  },
  {
   "cell_type": "code",
   "execution_count": 4,
   "metadata": {},
   "outputs": [
    {
     "name": "stdout",
     "output_type": "stream",
     "text": [
      "Vamos a introducir una matriz 5 x 5\n",
      "Mete la fila 0: 2 4 -2 8 5\n",
      "Mete la fila 1: 3 6 2 1 4\n",
      "Mete la fila 2: 2 1 4 6 2\n",
      "Mete la fila 3: 8 5 3 4 5\n",
      "Mete la fila 4: 4 2 6 9 7\n",
      "NO todos los elementos del vector son iguales\n"
     ]
    }
   ],
   "source": [
    "### Ejercicio 1\n",
    "\n",
    "def LeeMatriz():\n",
    "    print('Vamos a introducir una matriz',N,'x',N)\n",
    "    m = []\n",
    "    for i in range(N):\n",
    "        fila = input('Mete la fila {}: '.format(i)).split()\n",
    "        for j in range(N):\n",
    "            fila[j] = int(fila[j])\n",
    "        m.append(fila)\n",
    "    return m\n",
    "          \n",
    "def MinimoDesdePosicion(m, p):\n",
    "    minimo = m[p + 1][p + 1]\n",
    "    for i in range(p + 1, N):\n",
    "        for j in range(p + 1, N):\n",
    "            if m[i][j] < minimo:\n",
    "                minimo = m[i][j]\n",
    "    return minimo\n",
    "\n",
    "def rellenarVector(m):\n",
    "    t = []\n",
    "    for i in range(N - 1):\n",
    "        t.append(MinimoDesdePosicion(m, i))\n",
    "    return t\n",
    "\n",
    "def SonIguales(v):\n",
    "    for i in range(N - 1):\n",
    "        if v[i] != v[i + 1]:\n",
    "            return False\n",
    "    return True\n",
    "\n",
    "# PROGRAMA PRINCIPAL ##################\n",
    "\n",
    "N = 5 \n",
    "mOr = LeeMatriz()\n",
    "vector = rellenarVector(mOr)\n",
    "if SonIguales(vector):\n",
    "    print('Todos los elementos del vector son iguales')\n",
    "else:\n",
    "    print('NO todos los elementos del vector son iguales')\n"
   ]
  },
  {
   "cell_type": "code",
   "execution_count": 8,
   "metadata": {},
   "outputs": [
    {
     "name": "stdout",
     "output_type": "stream",
     "text": [
      "Vamos a introducir una matriz 4 x 4 de caracteres\n",
      "Mete 4 carateres sin espacios: wfer\n",
      "Mete 4 carateres sin espacios: lool\n",
      "Mete 4 carateres sin espacios: mjhy\n",
      "Mete 4 carateres sin espacios: bvvb\n",
      "\n",
      "Hay 2 palabras (filas) palíndromas en la matriz\n"
     ]
    }
   ],
   "source": [
    "### Ejercicio 2\n",
    "\n",
    "def LeeMatriz():\n",
    "    print('Vamos a introducir una matriz',N,'x',N,'de caracteres')\n",
    "    m = []\n",
    "    for i in range(N):\n",
    "        fila = list(input('Mete {} carateres sin espacios: '.format(N)))\n",
    "        m.append(fila)\n",
    "    print()\n",
    "    return m\n",
    "          \n",
    "def ExtraePalabra(m, f):\n",
    "    return m[f]\n",
    "\n",
    "def Palindroma(pal):\n",
    "    for i in range(N // 2):\n",
    "        if pal[i] != pal[len(pal) - i - 1]:\n",
    "            return False\n",
    "    return True\n",
    "\n",
    "def NumeroPalindromas(m):\n",
    "    suma = 0\n",
    "    for i in range(len(m)):\n",
    "        if Palindroma(ExtraePalabra(m, i)):\n",
    "            suma += 1\n",
    "    return(suma)\n",
    "\n",
    "# PROGRAMA PRINCIPAL ##################\n",
    "\n",
    "N = 4\n",
    "mOr = LeeMatriz() \n",
    "nPal = NumeroPalindromas(mOr)\n",
    "print('Hay',nPal,'palabras (filas) palíndromas en la matriz')"
   ]
  }
 ],
 "metadata": {
  "kernelspec": {
   "display_name": "Python 3",
   "language": "python",
   "name": "python3"
  },
  "language_info": {
   "codemirror_mode": {
    "name": "ipython",
    "version": 3
   },
   "file_extension": ".py",
   "mimetype": "text/x-python",
   "name": "python",
   "nbconvert_exporter": "python",
   "pygments_lexer": "ipython3",
   "version": "3.6.5"
  }
 },
 "nbformat": 4,
 "nbformat_minor": 2
}
