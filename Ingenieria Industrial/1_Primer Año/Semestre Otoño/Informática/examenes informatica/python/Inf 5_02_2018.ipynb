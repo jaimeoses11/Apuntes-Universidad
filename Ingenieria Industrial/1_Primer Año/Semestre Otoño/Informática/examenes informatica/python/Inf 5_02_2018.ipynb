{
 "cells": [
  {
   "cell_type": "markdown",
   "metadata": {},
   "source": [
    "# Inf 5_02_2018"
   ]
  },
  {
   "cell_type": "code",
   "execution_count": 7,
   "metadata": {},
   "outputs": [
    {
     "name": "stdout",
     "output_type": "stream",
     "text": [
      "Vamos a introducir una matriz 4 x 4\n",
      "Mete la fila 0: 1 2 3 4\n",
      "Mete la fila 1: 2 3 4 5\n",
      "Mete la fila 2: 3 4 5 6\n",
      "Mete la fila 3: 4 5 6 7\n",
      "\n",
      "La matriz es simétrica\n"
     ]
    }
   ],
   "source": [
    "### Ejercicio 1\n",
    "\n",
    "def LeeMatriz():\n",
    "    print('Vamos a introducir una matriz',N,'x',N)\n",
    "    m = []\n",
    "    for i in range(N):\n",
    "        fila = input('Mete la fila {}: '.format(i)).split()\n",
    "        for j in range(N):\n",
    "            fila[j] = int(fila[j])\n",
    "        m.append(fila)\n",
    "    print()\n",
    "    return m\n",
    "          \n",
    "def ExtraeFila(m, f):\n",
    "    return m[f]\n",
    "\n",
    "def ExtraeColumna(m, c):\n",
    "    v = []\n",
    "    for i in range (N):\n",
    "        v.append(m[i][c])\n",
    "    return v\n",
    "\n",
    "def ComparaVectores(v, w):\n",
    "    cuenta = 0\n",
    "    for i in range(len(v)):\n",
    "        if v[i] == w[i]:\n",
    "            cuenta += 1\n",
    "    return(cuenta)\n",
    "\n",
    "def Simetrica(m):\n",
    "    for i in range(N):\n",
    "        if ComparaVectores(ExtraeFila(m, i), ExtraeColumna(m, i)) != N:\n",
    "            return False\n",
    "    return True\n",
    "\n",
    "# PROGRAMA PRINCIPAL ##################\n",
    "\n",
    "N = 4  \n",
    "if Simetrica(LeeMatriz()):\n",
    "    print('La matriz es simétrica')\n",
    "else:\n",
    "    print('La matriz NO es simétrica')\n",
    "    \n",
    "# OTRA FORMA DE PROGRAMA PRINCIPAL\n",
    "# N = 4  \n",
    "# mOr = LeeMatriz()\n",
    "# esSim = Simetrica(mOr)\n",
    "# if esSim == True:\n",
    "#     print('La matriz es simétrica')\n",
    "# else:\n",
    "#     print('La matriz NO es simétrica')\n"
   ]
  },
  {
   "cell_type": "code",
   "execution_count": 18,
   "metadata": {},
   "outputs": [
    {
     "name": "stdout",
     "output_type": "stream",
     "text": [
      "Vamos a introducir una matriz 10 x 7\n",
      "Mete una matrícula: MUJ5465\n",
      "Mete una matrícula: mHY4565\n",
      "Mete una matrícula: MNHG432\n",
      "Mete una matrícula: 4567VFR\n",
      "Mete una matrícula: VFd8900\n",
      "Mete una matrícula: MUY1212\n",
      "Mete una matrícula: VFD343W\n",
      "Mete una matrícula: GFT5654\n",
      "Mete una matrícula: IKJ8798\n",
      "Mete una matrícula: VDE3232\n",
      "Las matrículas válidas son:\n",
      "MUJ5465\n",
      "MUY1212\n",
      "GFT5654\n",
      "IKJ8798\n",
      "VDE3232\n"
     ]
    }
   ],
   "source": [
    "### Ejercicio 2\n",
    "\n",
    "def LeeMatriz():\n",
    "    print('Vamos a introducir una matriz',N,'x',7)\n",
    "    m = []\n",
    "    for i in range(N):\n",
    "        m.append((list(input('Mete una matrícula: '.format(i)))))\n",
    "    return m\n",
    "\n",
    "def Extraer(m, f):\n",
    "    return m[f]\n",
    "\n",
    "def Valida(v):\n",
    "    for i in range(3):\n",
    "        if v[i] < 'A' or v[i] > 'Z':\n",
    "            return False\n",
    "    for i in range(3, 7):\n",
    "        if v[i] < '0' or v[i] > '9':\n",
    "            return False\n",
    "    return True\n",
    "\n",
    "def CreaListado(m):\n",
    "    r = []\n",
    "    cuenta = 0\n",
    "    for fila in m:\n",
    "        if Valida(fila):\n",
    "            r.append(fila)\n",
    "            cuenta += 1\n",
    "    return r, cuenta\n",
    "\n",
    "def Imprime(m, f):\n",
    "    for i in range(f):\n",
    "        for elem in m[i]: \n",
    "            print('{}'.format(elem), end='')\n",
    "        print()\n",
    "\n",
    "# PROGRAMA PRINCIPAL ##################\n",
    "\n",
    "N = 10\n",
    "mOr = LeeMatriz()\n",
    "mRes, filas = CreaListado(mOr)\n",
    "print('Las matrículas válidas son:')\n",
    "Imprime(mRes, filas)"
   ]
  }
 ],
 "metadata": {
  "kernelspec": {
   "display_name": "Python 3",
   "language": "python",
   "name": "python3"
  },
  "language_info": {
   "codemirror_mode": {
    "name": "ipython",
    "version": 3
   },
   "file_extension": ".py",
   "mimetype": "text/x-python",
   "name": "python",
   "nbconvert_exporter": "python",
   "pygments_lexer": "ipython3",
   "version": "3.6.5"
  }
 },
 "nbformat": 4,
 "nbformat_minor": 2
}
