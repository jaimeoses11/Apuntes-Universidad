{
 "cells": [
  {
   "cell_type": "markdown",
   "metadata": {},
   "source": [
    "# Inf 6_06_2016"
   ]
  },
  {
   "cell_type": "code",
   "execution_count": 7,
   "metadata": {},
   "outputs": [
    {
     "name": "stdout",
     "output_type": "stream",
     "text": [
      "Vamos a introducir una matriz 2 x 2\n",
      "Mete la fila 0: 5 6\n",
      "Mete la fila 1: 3 7\n",
      "Vamos a introducir una matriz 2 x 2\n",
      "Mete la fila 0: 3 2\n",
      "Mete la fila 1: 1 5\n",
      "  21  40\n",
      "  16  41\n",
      "\n"
     ]
    }
   ],
   "source": [
    "### Ejercicio 1\n",
    "\n",
    "def LeeMatriz():\n",
    "    print('Vamos a introducir una matriz',N,'x',N)\n",
    "    m = []\n",
    "    for i in range(N):\n",
    "        fila = input('Mete la fila {}: '.format(i)).split()\n",
    "        for j in range(N):\n",
    "            fila[j] = int(fila[j])\n",
    "        m.append(fila)\n",
    "    return m\n",
    "\n",
    "def ExtraeFila(m, f):\n",
    "    return m[f]\n",
    "\n",
    "def ExtraeColumna(m, c):\n",
    "    v = []\n",
    "    for i in range (N):\n",
    "        v.append(m[i][c])\n",
    "    return v\n",
    "\n",
    "def ProductoEscalar(v, w):\n",
    "    suma = 0\n",
    "    for i in range (len(v)):\n",
    "        suma += v[i] * w[i]\n",
    "    return(suma)\n",
    "          \n",
    "def ProductoDeMatrices(m1, m2):\n",
    "    m3 = []\n",
    "    for i in range(N):\n",
    "        m3.append([0] * N)\n",
    "    for i in range(N):\n",
    "        for j in range(N):\n",
    "            m3[i][j] = ProductoEscalar(ExtraeFila(m1, i), ExtraeColumna(m2, j))\n",
    "    return m3\n",
    "\n",
    "def EscribeMatriz(m):\n",
    "    for fila in m:\n",
    "        for elem in fila:\n",
    "            print('{:4}'.format(elem), end='')\n",
    "        print()\n",
    "    print()\n",
    "\n",
    "# PROGRAMA PRINCIPAL ##################\n",
    "\n",
    "N = 2 \n",
    "mOr1 = LeeMatriz()\n",
    "mOr2 = LeeMatriz()\n",
    "EscribeMatriz(ProductoDeMatrices(mOr1, mOr2))\n"
   ]
  },
  {
   "cell_type": "code",
   "execution_count": 6,
   "metadata": {},
   "outputs": [
    {
     "name": "stdout",
     "output_type": "stream",
     "text": [
      "Vamos a introducir una matriz de caracteres 4 x 4\n",
      "Mete la fila 0 sin espacios: abcf\n",
      "Mete la fila 1 sin espacios: ugfz\n",
      "Mete la fila 2 sin espacios: advb\n",
      "Mete la fila 3 sin espacios: ozig\n",
      "\n",
      "Mete un vector de enteros: 1 2 4 3\n",
      "Mete un vector de enteros: 1 4 2 1\n",
      "La palabra es palíndroma\n"
     ]
    }
   ],
   "source": [
    "#### Ejercicio 2\n",
    "\n",
    "def LeeMatriz():\n",
    "    print('Vamos a introducir una matriz de caracteres',N,'x',N)\n",
    "    m = []\n",
    "    for i in range(N):\n",
    "        fila = input('Mete la fila {} sin espacios: '.format(i))\n",
    "        m.append(list(fila))\n",
    "    print()\n",
    "    return m\n",
    "          \n",
    "def LeeVector():\n",
    "    v = input('Mete un vector de enteros: ').split()\n",
    "    for i in range(N):\n",
    "        v[i] = int(v[i])\n",
    "    return v\n",
    "    \n",
    "def ExtraePalabra(m, f, c):\n",
    "    vp = []\n",
    "    for i in range (N):\n",
    "        vp.append(m[f[i] - 1][c[i] - 1])\n",
    "    return vp\n",
    "\n",
    "def Palindroma(pal):\n",
    "     return pal == pal[::-1]\n",
    "\n",
    "# PROGRAMA PRINCIPAL ##################\n",
    "\n",
    "N = 4 \n",
    "mOr = LeeMatriz()\n",
    "v1, v2 = LeeVector(), LeeVector()\n",
    "if Palindroma(ExtraePalabra(mOr, v1, v2)):\n",
    "    print('La palabra es palíndroma')\n",
    "else:\n",
    "    print('La palabra NO es palíndroma')"
   ]
  }
 ],
 "metadata": {
  "kernelspec": {
   "display_name": "Python 3",
   "language": "python",
   "name": "python3"
  },
  "language_info": {
   "codemirror_mode": {
    "name": "ipython",
    "version": 3
   },
   "file_extension": ".py",
   "mimetype": "text/x-python",
   "name": "python",
   "nbconvert_exporter": "python",
   "pygments_lexer": "ipython3",
   "version": "3.6.5"
  }
 },
 "nbformat": 4,
 "nbformat_minor": 2
}
