{
 "cells": [
  {
   "cell_type": "markdown",
   "metadata": {
    "deletable": false,
    "editable": false
   },
   "source": [
    "# Práctica 04. Listas."
   ]
  },
  {
   "cell_type": "markdown",
   "metadata": {
    "deletable": false,
    "editable": false
   },
   "source": [
    "# Índice de ejercicios\n",
    "\n",
    "[P4_12. Mayores que num](#*P4_12.)   \n",
    "[P4_13. Orden inverso](#P4_13.)   \n",
    "[P4_14. Multiplica listas](#*P4_14.)   \n",
    "[P4_15. Apariciones de i](#*P4_15.)  \n",
    "[P4_16. Posición del menor](#P4_16.)   \n",
    "[P4_17. Matrices triangulares](#P4_17.)     \n",
    "[P4_18. Matriz simétrica](#*P4_18.)  \n",
    "[P4_19. Crea matriz de enteros](#P4_19.)  \n",
    "[P4_20. Crea listas de minúsculas](#*P4_20.)  \n",
    "[P4_21. Estrellas](#P4_21.)  \n",
    "[P4_22. Dibuja palabra](#P4_22.)  \n",
    "[P4_23. Cruza palabra](#*P4_23.)  \n",
    "  "
   ]
  },
  {
   "cell_type": "markdown",
   "metadata": {
    "deletable": false,
    "editable": false
   },
   "source": [
    "### *P4_12.  \n",
    "Escribe un programa que almacene enteros en una lista **v**. El programa pedirá al usuario un número **num** y mostrará las posiciones de los elementos de **v** que sean mayores que **num**.  \n",
    "Ejemplo para N=10:  \n",
    "~~~\n",
    "Introduce una lista de números:\n",
    "3  12  7  45  2  98  2  4  56  20\n",
    "Escribe un número: 40\n",
    "Las posiciones de los números mayores que 40 son: \n",
    "3  5  8\n",
    "\n",
    "~~~\n"
   ]
  },
  {
   "cell_type": "code",
   "execution_count": 1,
   "metadata": {},
   "outputs": [
    {
     "name": "stdout",
     "output_type": "stream",
     "text": [
      "Introduce una lista de números separados con espacios:3  12  7  45  2  98  2  4  56  20\n",
      "Escribe un número:40\n",
      "Las posiciones de los números mayores que 40 son: 3 5 8 "
     ]
    }
   ],
   "source": [
    "# Este programa dice la posición del elemento de una lista creada que es mayor que un número introducido.\n",
    "n = input ('Introduce una lista de números separados con espacios:')\n",
    "v = n.split ()\n",
    "m = int (input ('Escribe un número:'))\n",
    "print ('Las posiciones de los números mayores que {} son:'.format(m), end=' ')\n",
    "for i in range (len(v)):\n",
    "    v[i]= int(v[i])\n",
    "    if v[i]>m:\n",
    "        print (i, end=' ')"
   ]
  },
  {
   "cell_type": "markdown",
   "metadata": {
    "deletable": false,
    "editable": false
   },
   "source": [
    "### P4_13.  \n",
    "Escribe un programa que lea **n**  enteros y los almacene en una lista **t**. El programa creará una nueva lista **v** con los elementos de **t** en orden inverso.    \n",
    "Ejemplo:  \n",
    "~~~\n",
    "¿Cuántos números vas a introducir?: 4\n",
    "Introduce el número en posición 0: 6\n",
    "Introduce el número en posición 1: 8\n",
    "Introduce el número en posición 2: 2\n",
    "Introduce el número en posición 3: 54\n",
    "La nueva lista es: 54  2  8  6\n",
    "~~~\n"
   ]
  },
  {
   "cell_type": "code",
   "execution_count": 2,
   "metadata": {},
   "outputs": [
    {
     "name": "stdout",
     "output_type": "stream",
     "text": [
      "¿Cuántos números vas a introducir?:4\n",
      "Introduce el número en posición 0:6\n",
      "Introduce el número en posición 1:8\n",
      "Introduce el número en posición 2:2\n",
      "Introduce el número en posición 3:54\n",
      "La nueva lista es: 54 2 8 6 "
     ]
    }
   ],
   "source": [
    "# Este programa almacena números en una lista y crea otra nueva con los elementos de la anterior en orden inverso.\n",
    "t=[]\n",
    "n = int (input('¿Cuántos números vas a introducir?:'))\n",
    "for i in range (n):\n",
    "    m = int (input('Introduce el número en posición {}:'.format(i)))\n",
    "    t.append (m)\n",
    "v = t[::-1]\n",
    "print ('La nueva lista es:', end=' ')\n",
    "for i in range (len (v)):\n",
    "    print (v[i], end=' ')"
   ]
  },
  {
   "cell_type": "markdown",
   "metadata": {
    "deletable": false,
    "editable": false
   },
   "source": [
    "### *P4_14.  \n",
    "Escribe un programa que lea dos listas **a** y **b** de rango **N** (constante conocida) y calcule otra lista **c** con el resultado de multiplicar las listas **a** y **b** elemento a elemento.  \n",
    "Ejemplo:  \n",
    "~~~\n",
    "Introduce 6 números: 2  2  6  3  11  5\n",
    "Introduce 6 números: 1  7  8  16  4  6\n",
    "El resultado es: 2  14  48  48  44  30\n",
    "~~~"
   ]
  },
  {
   "cell_type": "code",
   "execution_count": null,
   "metadata": {},
   "outputs": [],
   "source": [
    "# Este programa almacena números en 2 listas y crea otra en la que sus \n",
    "# elementos son el producto de los elementos de las listas anteriores.\n",
    "N = 6\n",
    "a = (input ('Introduce {} números separados por espacios:'.format(N)))\n",
    "b = (input ('Introduce {} números separados por espacios:'.format(N)))\n",
    "a = a.split ()\n",
    "b = b.split ()\n",
    "c = []\n",
    "for i in range (len(a)):\n",
    "    a[i]= int (a[i])\n",
    "for j in range (len(b)):\n",
    "    b[j]= int (b[j])\n",
    "for l in range (N):\n",
    "    c.append (a[l]*b[l])\n",
    "print ('El resultado es:', end=' ')\n",
    "for i in range (len (c)):\n",
    "    print (c[i], end=' ')"
   ]
  },
  {
   "cell_type": "markdown",
   "metadata": {
    "deletable": false,
    "editable": false
   },
   "source": [
    "### *P4_15.  \n",
    "Escribe un programa que lea una lista **t** de **n** enteros positivos cuyos valores estén entre **0** y **n-1**. Posteriormente el programa creará una nueva lista **v** tal que **v[i]** será las veces que el número **i** aparece en el vector **t**. **n** será solicitado por el programa y como máximo será 20  \n",
    "Ejemplo:  \n",
    "\n",
    "~~~\n",
    "Cuántos elementos tendrá el vector (Max 20): 8\n",
    "Introduce 8 enteros menores que 8:  7  6  6  3  5  5  0  5  \n",
    "La nueva lista es: 1  0  0  1  0  3  2  1\n",
    "~~~\n",
    "\n",
    "    "
   ]
  },
  {
   "cell_type": "code",
   "execution_count": null,
   "metadata": {},
   "outputs": [],
   "source": [
    "# Este programa almacena números en una lista y crea otra en la que sus  \n",
    "# elementos serán las veces que el número i aparece en la anterior.\n",
    "n = int (input ('Cuántos elementos tendrá el vector (Max 20):'))\n",
    "t = input ('Introduce 8 enteros menores que {}:'.format(n))\n",
    "t = t.split ()\n",
    "v = []\n",
    "cuenta = 0\n",
    "for i in range (n):\n",
    "    cuenta = t.count (str(i))\n",
    "    v.append (cuenta)\n",
    "print ('La nueva lista es:', end=' ')\n",
    "for i in range (len (v)):\n",
    "    print (v[i], end=' ')"
   ]
  },
  {
   "cell_type": "markdown",
   "metadata": {
    "deletable": false,
    "editable": false
   },
   "source": [
    "### P4_16.  \n",
    "Escribe un programa que lea una matriz **m** de rango **f**x**c** (introducidos por el usuario) y nos devuelva la posición del menor elemento.\n",
    "Ejemplo:  \n",
    "\n",
    "~~~\n",
    "Introduce el número de filas: 3\n",
    "Introduce el número de columnas: 4\n",
    "Introduce la matriz:\n",
    "\n",
    "1  8  3  8 \n",
    "6  5  8  11\n",
    "3  32 10 5 \n",
    "\n",
    "La posición del mayor elemento es la 2, 1\n",
    "~~~\n",
    "\n",
    "    "
   ]
  },
  {
   "cell_type": "code",
   "execution_count": null,
   "metadata": {},
   "outputs": [],
   "source": [
    "# Este programa almacena números en una matriz y dice en que posición esta el menor.\n",
    "f = int (input ('Introduce el número de filas:'))\n",
    "c = int (input ('Introduce el número de columnas:'))\n",
    "m = []\n",
    "for i in range (f):\n",
    "    fila = input ('Introduce los elementos de la fila {} separados por espacios:'.format(i))\n",
    "    fila = fila.split ()\n",
    "    for j in range (c):\n",
    "        fila[j] = int(fila[j])\n",
    "    m.append (fila)\n",
    "posicion = 0,0\n",
    "menor = m[0][0]\n",
    "print ('Su matriz es la siguiente:')\n",
    "for i in range (f):\n",
    "    for j in range (c):\n",
    "        print (m[i][j], end=' ')\n",
    "    print ()\n",
    "for i in range (f):\n",
    "    for j in range (c):    \n",
    "        if menor > m[i][j]:\n",
    "            menor = m[i][j]\n",
    "            posicion = i,j\n",
    "print ('La posición del menor elemento es la {}'.format(posicion))                                                          "
   ]
  },
  {
   "cell_type": "markdown",
   "metadata": {
    "deletable": false,
    "editable": false
   },
   "source": [
    "### P4_17.  \n",
    "Escribe un programa que lea una matriz **m**(**N**x**N**) de números enteros (con **N** constante) y escribe en pantalla, en primer lugar, la matriz triangular inferior incluyendo la diagonal y, en segundo lugar, la matriz triangular superior sin incluir la diagonal.\t \n",
    "Ejemplo:  \n",
    "~~~\n",
    "Introduce una matriz de 3x3 elementos:   \n",
    "\n",
    "1  2  3  \n",
    "2  5  8  \n",
    "3  8  10  \n",
    "\n",
    "La matriz triangular inferior es:   \n",
    "\n",
    "1\n",
    "2  5  \n",
    "3  8  10  \n",
    "\n",
    "La matriz triangular superior es:  \n",
    "\n",
    "   2  3   \n",
    "      8  \n",
    "~~~\n",
    "\n",
    "    "
   ]
  },
  {
   "cell_type": "code",
   "execution_count": null,
   "metadata": {},
   "outputs": [],
   "source": [
    "# Este programa almacena números en una matriz y crea su matriz triangular inferior\n",
    "# incluyendo la diagonal y su matriz triangular superior sin incluir la diagonal.\n",
    "N = 3\n",
    "m = []\n",
    "for i in range (N):\n",
    "    fila = input ('Introduce los elementos de la fila {} separados por espacios:'.format(i))\n",
    "    fila = fila.split ()\n",
    "    for j in range (N):\n",
    "        fila[j] = int(fila[j])\n",
    "    m.append (fila)\n",
    "print ('Su matriz es la siguiente:')\n",
    "for i in range (N):\n",
    "    for j in range (N):\n",
    "        print (m[i][j], end=' ')\n",
    "    print ()\n",
    "print ('La matriz triangular inferior es:')\n",
    "for i in range (N):\n",
    "    for j in range (i+1):\n",
    "        print (m[i][j], end=' ')\n",
    "    print ()\n",
    "print ('La matriz triangular superior es:')\n",
    "for i in range (N):\n",
    "    for j in range (i+1):\n",
    "        print (' ', end=' ')\n",
    "    for j in range (i+1, N):\n",
    "        print (m[i][j], end=' ')\n",
    "    print ()"
   ]
  },
  {
   "cell_type": "markdown",
   "metadata": {
    "deletable": false,
    "editable": false
   },
   "source": [
    "### *P4_18.  \n",
    "Escribe un programa que lea una matriz **m** de rango **N**x**N** de enteros y compruebe si la matriz es simétrica o no (una matriz **m** es simétrica si **m**[ **i** ][ **j** ] = **m**[ **j** ][ **i** ] para todo **i,j** = 1,…,**N**)  \n",
    "Ejemplos:  \n",
    "~~~\n",
    "Introduce una matriz de 3x3 elementos:\n",
    "\n",
    "1  2  3  \n",
    "2  5  8  \n",
    "3  8 10  \n",
    "\n",
    "La matriz es simétrica \n",
    " \n",
    "Introduce una matriz de 3x3 elementos: \n",
    "\n",
    "1  5  3\n",
    "2  5  8\n",
    "3  8 10\n",
    "\n",
    "La matriz no es simétrica\n",
    "~~~\n",
    "\n",
    "    "
   ]
  },
  {
   "cell_type": "code",
   "execution_count": null,
   "metadata": {},
   "outputs": [],
   "source": [
    "# Este programa almacena números en una matriz y dice si es simétrica o no.\n",
    "N = int (input ('Introduce el número de filas y columnas de la matriz:'))\n",
    "m = []\n",
    "simetrica = True\n",
    "for i in range (N):\n",
    "    fila = input ('Introduce los elementos de la fila {} separados por espacios:'.format(i))\n",
    "    fila = fila.split ()\n",
    "    for j in range (N):\n",
    "        fila[j] = int(fila[j])\n",
    "    m.append (fila)\n",
    "print ('Su matriz es la siguiente:')\n",
    "for i in range (N):\n",
    "    for j in range (N):\n",
    "        print (m[i][j], end=' ')\n",
    "    print ()\n",
    "for i in range (N):\n",
    "    for j in range (N):\n",
    "        if m[i][j]!=m[j][i]:\n",
    "            simetrica = False\n",
    "if simetrica:\n",
    "    print ('La matriz es simétrica')\n",
    "else:\n",
    "    print ('La matriz NO es simétrica')           "
   ]
  },
  {
   "cell_type": "markdown",
   "metadata": {
    "deletable": false,
    "editable": false
   },
   "source": [
    "### P4_19.  \n",
    "Escribe un programa que lea una secuencia de **N** enteros y los almacene en una lista **v**. Posteriormente el programa construirá una matriz **m** (de rango **N**x**N**) como en el ejemplo.  \n",
    "Nota: Los valores de **v** deben ser menores o iguales que **N**.  \n",
    "Ejemplo:  \n",
    "~~~\n",
    "\tIntroduce 5 números menores o iguales que 5: 1  4  5  2  2  \n",
    "    \n",
    "\tLa matriz m es:  \n",
    "    \n",
    "\t1  4  5  2  2\n",
    "\t0  4  5  2  2\n",
    "\t0  4  5  0  0\n",
    "\t0  4  5  0  0\n",
    "    0  0  5  0  0\n",
    "~~~\n",
    "   "
   ]
  },
  {
   "cell_type": "code",
   "execution_count": null,
   "metadata": {},
   "outputs": [],
   "source": [
    "# Este programa almacena números en una lista y crea una matriz en la que sus elementos son el elemento  \n",
    "# de la lista anterior repetido en su columna correspondiente el número de veces que indique su valor.  \n",
    "N = int (input ('Introduce el número de filas y columnas de la matriz:'))\n",
    "v = input ('Introduce {} números menores o iguales que {} separados por espacios:'.format(N, N))\n",
    "v = v.split ()\n",
    "m = []\n",
    "for i in range (N):\n",
    "    t = ['0']*N\n",
    "    m.append (t)\n",
    "print ('Su matriz es la siguiente:')\n",
    "for i in range (N):\n",
    "    for j in range (N):\n",
    "        if i<int(v[j]):\n",
    "            m[i][j] = v[j]\n",
    "for i in range (N):\n",
    "    for j in range (N):\n",
    "        print (m[i][j], end=' ')\n",
    "    print ()"
   ]
  },
  {
   "cell_type": "markdown",
   "metadata": {
    "deletable": false,
    "editable": false
   },
   "source": [
    "##### *P4_20.  \n",
    "Escribe un programa que lea una matriz de letras minúsculas **m2** de rango 4x4. Una primera matriz **m1** viene dada. El programa debe comparar los caracteres elemento a elemento y almacenar los caracteres que sean iguales en ambas matrices de la siguiente manera:  \n",
    "-. En una lista **d** si el carácter está entre la ‘a’ y la ‘m’ o  \n",
    "-. en una lista **f** si el carácter está entre la ‘n’ y la ‘z’.   \n",
    "Ejemplo: \n",
    "\n",
    "~~~\n",
    "La primera matriz es:  \n",
    "\n",
    "u r b u  \n",
    "o a e i  \n",
    "l f d o  \n",
    "o r c i  \n",
    "\n",
    "Introduce la segunda matriz:  \n",
    "\n",
    "b r t u  \n",
    "s a v h  \n",
    "l g h o  \n",
    "c r c s  \n",
    "\n",
    "La lista d es: a l c  \n",
    "La lista f es: r u o r\n",
    "\n",
    "~~~\n"
   ]
  },
  {
   "cell_type": "code",
   "execution_count": null,
   "metadata": {},
   "outputs": [],
   "source": [
    "# Este programa almacena carácteres en dos matrices y crea 2 listas con una\n",
    "# serie de condiciones con los elementos iguales de las 2 matrices anteriores.\n",
    "m1 = [['u', 'r', 'b', 'u'], \n",
    "      ['o', 'a', 'e', 'i'],\n",
    "      ['l', 'f', 'd', 'o'],\n",
    "      ['o', 'r', 'c', 'i']]\n",
    "print('La primera matriz es: ')\n",
    "print()\n",
    "for fila in m1:\n",
    "    for elem in fila:\n",
    "        print('{:2}'.format(elem),end='') \n",
    "    print()\n",
    "print()\n",
    "m2 = []\n",
    "d = []\n",
    "f = []\n",
    "for i in range (4):\n",
    "    fila = input ('Introduce los elementos de la fila {} de la segunda matriz separados por espacios:'.format(i))\n",
    "    fila = fila.split ()\n",
    "    m2.append (fila)\n",
    "print ('La segunda matriz es la siguiente:')\n",
    "for i in range (4):\n",
    "    for j in range (4):\n",
    "        print (m2[i][j], end=' ')\n",
    "    print ()\n",
    "for i in range (4):\n",
    "    for j in range (4):\n",
    "        if m1[i][j]==m2[i][j]:\n",
    "            if m1[i][j]>='a' and m1[i][j]<='m':\n",
    "                d.append (m1[i][j])\n",
    "            if m1[i][j]>='n' and m1[i][j]<='z':\n",
    "                f.append (m1[i][j])\n",
    "print ('La lista d es:', end=' ')\n",
    "for i in range (len(d)):\n",
    "    print (d[i], end=' ')\n",
    "print ()\n",
    "print ('La lista f es:', end=' ')\n",
    "for i in range (len(f)):\n",
    "    print (f[i], end=' ')"
   ]
  },
  {
   "cell_type": "markdown",
   "metadata": {
    "deletable": false,
    "editable": false
   },
   "source": [
    "### P4_21.  \n",
    "Escribe un programa que lea una secuencia de enteros y los almacene en un array **m** de rango **N**x**N**. Suponemos que cada número representa el brillo de una zona del espacio. Una posición **i**,**j** de la matriz es una estrella si la suma del valor en la posición **i**,**j** y los valores de sus cuatro vecinos (arriba, abajo, derecha e izquierda) es mayor que 30. El programa debe mostrar las posiciones de las estrellas.  \n",
    "Nota: No hay estrellas en los bordes de la matriz.  \n",
    "Ejemplo:   \n",
    "~~~\n",
    "Introduce los 6x6 numeros:  \n",
    "\n",
    "1   3  10   2   1   2  \n",
    "0   3   5   3   8   2  \n",
    "3   4  10   2   3   2  \n",
    "1   2   2   1   6   2  \n",
    "3   7   1   8   8   3  \n",
    "1   2   5   2   7   5   \n",
    "\n",
    "Las estrellas ocupan las posiciones:  \n",
    "\n",
    "(1,2)  \n",
    "(4,4)\n",
    "\n",
    "\n",
    "~~~\n"
   ]
  },
  {
   "cell_type": "code",
   "execution_count": 4,
   "metadata": {},
   "outputs": [
    {
     "name": "stdout",
     "output_type": "stream",
     "text": [
      "Su matriz es\n",
      "   1    3   10    2    1    2 \n",
      "   0    3    5    3    8    2 \n",
      "   3    4   10    2    3    2 \n",
      "   1    2    2    1    6    2 \n",
      "   3    7    1    8    8    3 \n",
      "   1    2    5    2    7    5 \n",
      "Las estrellas ocupan las posiciones:\n",
      "1 2\n",
      "4 4\n"
     ]
    }
   ],
   "source": [
    "# Este programa almacena en una matriz el brillo de zonas del espacio y dice la posición de las estrellas, que \n",
    "# cumplen que su suma con las regiones próximas del espacio (arriba, abajo, derecha e izquierda) es mayor que 30.\n",
    "n = 6\n",
    "m = [[1, 3, 10, 2, 1, 2],\n",
    "     [0, 3, 5, 3, 8, 2],\n",
    "     [3, 4, 10, 2, 3, 2],\n",
    "     [1, 2, 2, 1, 6, 2],\n",
    "     [3, 7, 1, 8, 8, 3],\n",
    "     [1, 2, 5, 2, 7, 5]]\n",
    "a=0\n",
    "print('Su matriz es')\n",
    "for i in range (n):\n",
    "    for j in range (n):\n",
    "        print ('{:4}'.format(m[i][j]), end=' ')\n",
    "    print ()\n",
    "print ('Las estrellas ocupan las posiciones:')\n",
    "for i in range (1,n-1):\n",
    "    for j in range (1, n-1):\n",
    "        a = m[i][j]+m[i+1][j]+m[i][j+1]+m[i-1][j]+m[i][j-1]\n",
    "        if a>30:\n",
    "            print (i,j)\n",
    "            a=0"
   ]
  },
  {
   "cell_type": "markdown",
   "metadata": {
    "deletable": false,
    "editable": false
   },
   "source": [
    "### P4_22.  \n",
    "Escribe un programa que lea una palabra de **N** caracteres y la almacene en una lista **t**. El programa solicitará ahora un número entero **num** (**num**<=**N**) y mostrará un dibujo como el del ejemplo.  \n",
    "Ejemplo: \n",
    "~~~\n",
    "Introduce una palabra de 7 caracteres: AULARIO  \n",
    "Introduce un número menor o igual que 7: 5  \n",
    "\n",
    "A               R\n",
    "A           A   R\n",
    "A       L       R\n",
    "A   U           R\n",
    "A               R\n",
    "\t\n",
    "\n",
    "~~~\n"
   ]
  },
  {
   "cell_type": "code",
   "execution_count": null,
   "metadata": {
    "scrolled": true
   },
   "outputs": [],
   "source": [
    "# Este programa almacena carácteres en una lista y realiza un dibujo como el del ejemplo según un número introducido.\n",
    "N = 7\n",
    "t = []\n",
    "m = []\n",
    "a = input ('Introduce una palabra de {} carácteres:'.format(N))\n",
    "b = int (input('Introduce un número menor o igual que {}:'.format(N)))\n",
    "for i in range (b):\n",
    "    t.append (a[i])\n",
    "    v=[' ']*N\n",
    "    m.append(v)\n",
    "for i in range (b):\n",
    "    for j in range (b):\n",
    "        if j==0 or j==(b-1):\n",
    "            m[i][j]=t[j]\n",
    "for i in range (b):\n",
    "    for j in range (b):\n",
    "        if i==b-1-j:\n",
    "            m[i][j]= t[j]\n",
    "for i in range (b):\n",
    "    for j in range (b):\n",
    "        print ('{:2}'.format(m[i][j]), end=' ')\n",
    "    print ()"
   ]
  },
  {
   "cell_type": "markdown",
   "metadata": {
    "deletable": false,
    "editable": false
   },
   "source": [
    "### *P4_23.  \n",
    "Escribe un programa que lea **N** dígitos y los almacene en una lista **t**. El programa solicitará ahora un número entero **num** (**num**<=**N**) y mostrará un dibujo como el del ejemplo.  \n",
    "Ejemplo: \n",
    "~~~\n",
    "Introduce 6 numeros: 2 5 2 8 7 1  \n",
    "\n",
    "Introduce un número menor o igual que 6: 4  \n",
    "\n",
    "               2\n",
    "               5\n",
    "               2\n",
    "   2   5   2   8   7   1\n",
    "               7\n",
    "               1\t\t\n",
    "~~~\t\t\n",
    "\n"
   ]
  },
  {
   "cell_type": "code",
   "execution_count": null,
   "metadata": {},
   "outputs": [],
   "source": [
    "# Este programa almacena números en una lista y realiza un dibujo como el del ejemplo según un número introducido.\n",
    "N = int (input('Introduce cuantos números quieres introducir:'))\n",
    "a = input ('Introduce {} numeros separados por espacios:'.format(N))\n",
    "t = a.split ()\n",
    "b = int (input ('Introduce un número menor o igual que {}:'.format(N)))\n",
    "v = []\n",
    "m = []\n",
    "for i in range (N):\n",
    "    v=[' ']*N\n",
    "    m.append (v)\n",
    "for i in range (N):\n",
    "    for j in range (N):\n",
    "        if i == (b-1):\n",
    "            m[i][j]= t[j]\n",
    "        if j == (b-1):\n",
    "            m[i][j]= t[i]\n",
    "for i in range (N):\n",
    "    for j in range (N):\n",
    "        print ('{:2}'.format(m[i][j]), end=' ')\n",
    "    print ()"
   ]
  },
  {
   "cell_type": "code",
   "execution_count": null,
   "metadata": {},
   "outputs": [],
   "source": []
  }
 ],
 "metadata": {
  "kernelspec": {
   "display_name": "Python 3",
   "language": "python",
   "name": "python3"
  },
  "language_info": {
   "codemirror_mode": {
    "name": "ipython",
    "version": 3
   },
   "file_extension": ".py",
   "mimetype": "text/x-python",
   "name": "python",
   "nbconvert_exporter": "python",
   "pygments_lexer": "ipython3",
   "version": "3.6.5"
  }
 },
 "nbformat": 4,
 "nbformat_minor": 2
}
