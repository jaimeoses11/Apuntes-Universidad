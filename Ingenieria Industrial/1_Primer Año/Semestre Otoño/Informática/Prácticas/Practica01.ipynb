{
 "cells": [
  {
   "cell_type": "markdown",
   "metadata": {
    "deletable": false,
    "editable": false
   },
   "source": [
    "# Práctica 01. Entorno Python 3.6"
   ]
  },
  {
   "cell_type": "markdown",
   "metadata": {
    "deletable": false,
    "editable": false
   },
   "source": [
    "A lo largo del curso, usaremos el **Notebook** y el programa **Python3.6** que ya está instalado en las aulas para hacer nuestras prácticas. Descargaremos el archivo correspondiente a la práctica, con extensión **ipynb** y una vez completado, lo subiremos según las instrucciones."
   ]
  },
  {
   "cell_type": "markdown",
   "metadata": {
    "deletable": false,
    "editable": false
   },
   "source": [
    "## Primer programa"
   ]
  },
  {
   "cell_type": "markdown",
   "metadata": {
    "deletable": false,
    "editable": false
   },
   "source": [
    "Empezaremos ejecutando el siguiente programa escrito en Python. Para ejecutarlo debes colocarte en la celda siguiente y pulsar el icono **>|** de la barra de herramientas, usar el comando **Run cells** del menu superior Cell o usar el atajo de teclado **Ctrl + Enter**."
   ]
  },
  {
   "cell_type": "code",
   "execution_count": 2,
   "metadata": {},
   "outputs": [
    {
     "name": "stdout",
     "output_type": "stream",
     "text": [
      "Hola Mundo\n"
     ]
    }
   ],
   "source": [
    "print ('Hola Mundo')"
   ]
  },
  {
   "cell_type": "markdown",
   "metadata": {
    "deletable": false,
    "editable": false
   },
   "source": [
    "Como puedes comprobar, ha habido un error de de sintaxis. Soluciónalo y vuelve a ejecutarlo."
   ]
  },
  {
   "cell_type": "markdown",
   "metadata": {
    "deletable": false,
    "editable": false
   },
   "source": [
    "## Ejercicios"
   ]
  },
  {
   "cell_type": "markdown",
   "metadata": {
    "deletable": false,
    "editable": false
   },
   "source": [
    "Vamos a realizar algunos ejercicios para ir familiarizándonos con el programa.\n",
    "\n",
    "Ejecuta el siguiente programa. Cuando lo solicite, introduce un número y pulsa **Enter**"
   ]
  },
  {
   "cell_type": "code",
   "execution_count": 3,
   "metadata": {},
   "outputs": [
    {
     "name": "stdout",
     "output_type": "stream",
     "text": [
      "Introduce un número:7\n",
      "El número introducido es el 7\n"
     ]
    }
   ],
   "source": [
    "#Este programa pide un número y lo imprime en pantalla\n",
    "\n",
    "n = input ('Introduce un número:')\n",
    "print ('El número introducido es el',n)"
   ]
  },
  {
   "cell_type": "markdown",
   "metadata": {
    "deletable": false,
    "editable": false
   },
   "source": [
    "Esta es la forma mas sencilla de solicitar datos por pantalla e imprimirlos.   \n",
    "\n",
    "### P1_01. \n",
    "Prueba a realizar un programa que utilizando dos variables funcione de la siguiente manera:\n",
    "~~~\n",
    " Por favor, introduce un número: 4  \n",
    " Por favor, introduce otro número: 5   \n",
    " Los números introducidos son el 4 y el 5  \n",
    "~~~"
   ]
  },
  {
   "cell_type": "code",
   "execution_count": 4,
   "metadata": {},
   "outputs": [
    {
     "name": "stdout",
     "output_type": "stream",
     "text": [
      "Por favor, introduce un número:9\n",
      "Por favor, introduce otro número:6\n",
      "Los números introducidos son el 9 y el 6\n"
     ]
    }
   ],
   "source": [
    "# Este programa pide dos números y los imprime por pantalla en la misma sentencia\n",
    "n = input ('Por favor, introduce un número:')\n",
    "m = input ('Por favor, introduce otro número:')\n",
    "print ('Los números introducidos son el',n, 'y el', m)"
   ]
  },
  {
   "cell_type": "markdown",
   "metadata": {
    "deletable": false,
    "editable": false
   },
   "source": [
    "### P1_02.\n",
    "Escribe un programa que lea dos caracteres introducidos por el usuario desde el teclado y los escriba en una misma sentencia  \n",
    "Ejemplo:\n",
    "~~~\n",
    "Por favor, introduce un carácter: a \n",
    "Por favor, introduce otro carácter: z\n",
    "Los caracteres introducidos son a y z\n",
    "~~~\n"
   ]
  },
  {
   "cell_type": "code",
   "execution_count": 5,
   "metadata": {},
   "outputs": [
    {
     "name": "stdout",
     "output_type": "stream",
     "text": [
      "Por favor, introduce un carácter:7\n",
      "Por favor, introduce otro carácter:4\n",
      "Los caracteres introducidos son 7 y 4\n"
     ]
    }
   ],
   "source": [
    "# Este programa pide dos carácteres y los imprime por pantalla en la misma sentencia\n",
    "n = input ('Por favor, introduce un carácter:')\n",
    "m = input ('Por favor, introduce otro carácter:')\n",
    "print ('Los caracteres introducidos son',n, 'y', m)"
   ]
  },
  {
   "cell_type": "markdown",
   "metadata": {
    "deletable": false,
    "editable": false
   },
   "source": [
    "Probemos algunas operaciones aritméticas sencillas  \n",
    "\n",
    "Ejecuta el programa de la siguiente celda, que intuitivamente debería funcionar de la siguiente manera:    \n",
    "~~~\n",
    "Por favor, introduce un número: 4  \n",
    "Por favor, introduce otro número: 5  \n",
    "La suma de los números introducidos es 9  \n",
    "~~~"
   ]
  },
  {
   "cell_type": "code",
   "execution_count": 6,
   "metadata": {},
   "outputs": [
    {
     "name": "stdout",
     "output_type": "stream",
     "text": [
      "Por favor, introduce un número:7\n",
      "Por favor, introduce otro número:9\n",
      "la suma de los números introducidos es 79\n"
     ]
    }
   ],
   "source": [
    "# Hace la suma de dos variables\n",
    "\n",
    "n = input ('Por favor, introduce un número:')\n",
    "m = input ('Por favor, introduce otro número:')\n",
    "print ('la suma de los números introducidos es',n + m)"
   ]
  },
  {
   "cell_type": "markdown",
   "metadata": {
    "deletable": false,
    "editable": false
   },
   "source": [
    "Como puedes comprobar, la respuesta es 45 y no 9. ¿Qué ha ocurrido?  \n",
    "El comando *input* almacena lo que introducimos por teclado como **texto**.  \n",
    "debemos indicar al programa que queremos trabajar con números usando la conversión a entero (**int**) o a real (**float**).   \n",
    "Podemos hacerlo de dos formas  \n",
    "Directamente: \n",
    "~~~\n",
    "n = int(input('Por favor, introduce un número:'))\n",
    "~~~\n",
    "o en dos pasos:  \n",
    "~~~\n",
    "n = input ('Por favor, introduce un número:')    \n",
    "n = int (n)\n",
    "~~~\n",
    "### P1_03.\n",
    "Introduce en la siguiente celda el programa anterior modificado para que funcione correctamente."
   ]
  },
  {
   "cell_type": "code",
   "execution_count": 7,
   "metadata": {},
   "outputs": [
    {
     "name": "stdout",
     "output_type": "stream",
     "text": [
      "Por favor, introduce un número:7\n",
      "Por favor, introduce otro número:9\n",
      "la suma de los números introducidos es 16\n"
     ]
    }
   ],
   "source": [
    "# Este programa hace la suma de dos variables\n",
    "n = int (input ('Por favor, introduce un número:'))\n",
    "m = int (input ('Por favor, introduce otro número:'))\n",
    "print ('la suma de los números introducidos es',n + m)"
   ]
  },
  {
   "cell_type": "markdown",
   "metadata": {
    "deletable": false,
    "editable": false
   },
   "source": [
    "### P1_04.\n",
    "Escribe un programa que lea tu edad  (o la edad que tendrás al finalizar este año) y muestre en el monitor el año de tu nacimiento.  \n",
    "Por favor, crea una variable que almacene tu edad, pero no crees otra para almacenar el año.  \n",
    "Ejemplo:\n",
    "~~~\n",
    "\tPor favor, introduce tu edad: 18 \n",
    "\tNaciste en 2000\n",
    "~~~\n"
   ]
  },
  {
   "cell_type": "code",
   "execution_count": 8,
   "metadata": {},
   "outputs": [
    {
     "name": "stdout",
     "output_type": "stream",
     "text": [
      "Por favor, introduce tu edad:89\n",
      "Naciste en 1929\n"
     ]
    }
   ],
   "source": [
    "# Este programa te dice el año de nacimiento introduciendo la edad\n",
    "n = int (input ('Por favor, introduce tu edad:'))\n",
    "print ('Naciste en', 2018 - n)"
   ]
  },
  {
   "cell_type": "markdown",
   "metadata": {
    "deletable": false,
    "editable": false
   },
   "source": [
    "### P1_05.  \n",
    "Escribe un programa que lea dos números y muestre en pantalla su suma, resta y multiplicación. Por favor, crea una variable para almacenar cada operación.  \n",
    "Ejemplo:\n",
    "~~~\n",
    "Por favor, introduce un número: 10  \n",
    "Por favor, introduce otro número: 5.4  \n",
    "Su suma es 15.4, la resta es 4.6 y la multiplicación es 54.0  \n",
    "~~~\n",
    "Ten en cuenta que 5.4 es un número real (float)."
   ]
  },
  {
   "cell_type": "code",
   "execution_count": null,
   "metadata": {},
   "outputs": [
    {
     "name": "stdout",
     "output_type": "stream",
     "text": [
      "Por favor, introduce un número:9\n"
     ]
    }
   ],
   "source": [
    "# Este programa hace la suma, resta y multiplicación de dos variables\n",
    "n = float (input ('Por favor, introduce un número:'))\n",
    "m = float (input ('Por favor, introduce otro número:'))\n",
    "print ('Su suma es',n + m, ', la resta es', n - m, 'y la multiplicacion es', n * m)"
   ]
  },
  {
   "cell_type": "markdown",
   "metadata": {
    "deletable": false,
    "editable": false
   },
   "source": [
    "### P1_06.\n",
    "Escribe un programa que lea dos números desde teclado y muestre la división entera y la división real de los mismos.  \n",
    "Debes usar los operadores   **/**  (división real)   y   **//**  (división entera).  \n",
    "Ejemplo:  \n",
    "~~~\n",
    "\tPor favor, introduce un número: 10\n",
    "\tPor favor, introduce otro número: 3\n",
    "\tLa división entera es  3 y la división real es 3.3333333333333335\n",
    "~~~\n"
   ]
  },
  {
   "cell_type": "code",
   "execution_count": 15,
   "metadata": {},
   "outputs": [
    {
     "name": "stdout",
     "output_type": "stream",
     "text": [
      "Por favor, introduce un número:8\n",
      "Por favor, introduce otro número:3\n",
      "La división entera es 2.0 y la división real es 2.6666666666666665\n"
     ]
    }
   ],
   "source": [
    "# Este programa hace la división real y entera de dos variables\n",
    "n = float (input ('Por favor, introduce un número:'))\n",
    "m = float (input ('Por favor, introduce otro número:'))\n",
    "print ('La división entera es',n // m, 'y la división real es', n / m)"
   ]
  },
  {
   "cell_type": "markdown",
   "metadata": {
    "deletable": false,
    "editable": false
   },
   "source": [
    "Si queremos controlar la posición y el número de decimales podemos usar **print** con la opción **format**   \n",
    "Ejecuta la siguiente celda y observa su funcionamiento\n",
    "\n",
    "\n"
   ]
  },
  {
   "cell_type": "code",
   "execution_count": null,
   "metadata": {},
   "outputs": [],
   "source": [
    "#Escribe números en distintos formatos\n",
    "\n",
    "print('División de {} entre {} con dos decimales: {:.2f}'.format(10 ,3, 10 / 3) )\n",
    "print('División de {} entre {} con cuatro decimales ocupando 10 espacios : {:10.4f}'.format(10 ,3, 10 / 3) )\n",
    "print('División de {:6} entre {:12} sin decimales: {:.0f}'.format(10 ,3, 10 / 3) )\n",
    "\n"
   ]
  },
  {
   "cell_type": "markdown",
   "metadata": {
    "deletable": false,
    "editable": false
   },
   "source": [
    "### P1_07.\n",
    "Modifica el programa del apartado **P1_06** para que la solución tenga solo 3 decimales"
   ]
  },
  {
   "cell_type": "code",
   "execution_count": 1,
   "metadata": {},
   "outputs": [
    {
     "name": "stdout",
     "output_type": "stream",
     "text": [
      "Por favor, introduce un número:9\n",
      "Por favor, introduce otro número:7\n",
      "División entera de 9.0 entre 7.0 con tres decimales: 1.000\n",
      "División real de 9.0 entre 7.0 con tres decimales: 1.286\n"
     ]
    }
   ],
   "source": [
    "#Este programa hace la división real y entera de dos variables utilizando el .format\n",
    "n = float (input ('Por favor, introduce un número:'))\n",
    "m = float (input ('Por favor, introduce otro número:'))\n",
    "print('División entera de {} entre {} con tres decimales: {:.3f}'.format(n , m , n // m) )\n",
    "print('División real de {} entre {} con tres decimales: {:.3f}'.format(n , m , n / m) )"
   ]
  },
  {
   "cell_type": "markdown",
   "metadata": {
    "deletable": false,
    "editable": false
   },
   "source": [
    "### P1_08.\n",
    "Corrige los errores del siguiente programa y pruébalo para los siguientes valores:  \n",
    "1. Monedas de 50: 4, monedas de 20: 7 y monedas de 10: 5  \n",
    "Debes obtener como resultado:\n",
    "~~~\n",
    "    En total tengo 390 céntimos\n",
    "    En euros son 3.9 Euros\n",
    "~~~\n",
    "\n",
    "2. Monedas de 50: 1, monedas de 20: 2 y monedas de 10: tres (en texto)"
   ]
  },
  {
   "cell_type": "code",
   "execution_count": 17,
   "metadata": {},
   "outputs": [
    {
     "name": "stdout",
     "output_type": "stream",
     "text": [
      "Introduce cuántas monedas de 50cts. tienes: 9\n",
      "Introduce cuántas monedas de 20cts. tienes: 7\n",
      "Por último, dime cuántas monedas de 10cts. tienes: 4\n",
      "En total tengo 630 céntimos\n",
      "En euros son 6.3 Euros\n"
     ]
    }
   ],
   "source": [
    "# Programa que calcula el dinero que tenemos en céntimos y Euros\n",
    "\n",
    "v_50 = 50\n",
    "v_20 = 20\n",
    "v_10 = 10\n",
    "m50 = int (input('Introduce cuántas monedas de 50cts. tienes: '))\n",
    "m20 = int (input('Introduce cuántas monedas de 20cts. tienes: '))\n",
    "m10 = int (input('Por último, dime cuántas monedas de 10cts. tienes: '))\n",
    "dinero = m50 * v_50 + m20 * v_20 + m10 * v_10\n",
    "print ('En total tengo {} céntimos'.format(dinero))\n",
    "euros = dinero / 100\n",
    "print ('En euros son {} Euros'.format(euros))\n",
    "\n",
    "#Explica brevemente en las siguientes líneas comentadas por qué no funciona el caso 2\n",
    "# El caso dos no funciona porque al asignar el valor a la variable m10 el programa identifica\n",
    "# una cadena de texto en vez de un valor numérico, lo que hace que no se puedan contar las \n",
    "# monedas de 10 céntimos, entonces el programa no funciona.\n"
   ]
  },
  {
   "cell_type": "markdown",
   "metadata": {
    "deletable": false,
    "editable": false
   },
   "source": [
    "### P1_09.\n",
    "Crea un programa que pida una cantidad de dinero en Euros y nos devuelva el valor de dicha cantidad en Dólares. (Consideramos  el cambio 1€=1.11$)"
   ]
  },
  {
   "cell_type": "code",
   "execution_count": 18,
   "metadata": {},
   "outputs": [
    {
     "name": "stdout",
     "output_type": "stream",
     "text": [
      "Introduce el dinero que tines en Euros:7\n",
      "El dinero que tienes en dolares es 7.7700000000000005 Dolares\n"
     ]
    }
   ],
   "source": [
    "# Este programa pasa una cantidad de dinero de euros a dolares\n",
    "n = float (input ('Introduce el dinero que tines en Euros:'))\n",
    "m = float (1.11)\n",
    "dolares = n * m\n",
    "print ('El dinero que tienes en dolares es {} Dolares'.format(dolares))"
   ]
  },
  {
   "cell_type": "markdown",
   "metadata": {
    "deletable": false,
    "editable": false
   },
   "source": [
    "### P1_10.\n",
    "Calcula el volumen de un cilindro cuyo radio y altura leerás desde teclado."
   ]
  },
  {
   "cell_type": "code",
   "execution_count": 19,
   "metadata": {},
   "outputs": [
    {
     "name": "stdout",
     "output_type": "stream",
     "text": [
      "Introduce el radio del cilindro8\n",
      "Introduce la altura del cilindro9\n",
      "El volumen del cilindro es 1809.5573684677208 metros al cubo\n"
     ]
    }
   ],
   "source": [
    "# Este programa calcula el el volumen de un cilindro introduciendo su radio y su altura\n",
    "from math import pi\n",
    "radio = float (input ('Introduce el radio del cilindro'))\n",
    "altura = float (input ('Introduce la altura del cilindro'))\n",
    "areabase = pi * (radio**2)\n",
    "volumen = areabase * altura\n",
    "print ('El volumen del cilindro es {} metros al cubo'.format(volumen))\n"
   ]
  },
  {
   "cell_type": "code",
   "execution_count": null,
   "metadata": {
    "collapsed": true
   },
   "outputs": [],
   "source": []
  }
 ],
 "metadata": {
  "kernelspec": {
   "display_name": "Python 3",
   "language": "python",
   "name": "python3"
  },
  "language_info": {
   "codemirror_mode": {
    "name": "ipython",
    "version": 3
   },
   "file_extension": ".py",
   "mimetype": "text/x-python",
   "name": "python",
   "nbconvert_exporter": "python",
   "pygments_lexer": "ipython3",
   "version": "3.6.5"
  }
 },
 "nbformat": 4,
 "nbformat_minor": 2
}
