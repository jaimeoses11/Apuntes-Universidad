{
 "cells": [
  {
   "cell_type": "markdown",
   "metadata": {
    "deletable": false,
    "editable": false
   },
   "source": [
    "# Práctica 03. Sentencias iterativas."
   ]
  },
  {
   "cell_type": "markdown",
   "metadata": {
    "deletable": false,
    "editable": false
   },
   "source": [
    "### Recuerda que para realizar estos ejecicios deberás usar las sentencias *while* y *for_in*."
   ]
  },
  {
   "cell_type": "markdown",
   "metadata": {
    "deletable": false,
    "editable": false
   },
   "source": [
    "# Índice de ejercicios\n",
    "\n",
    "[P3_01. Cuenta pares](#P3_01.)  \n",
    "[P3_02. Cuenta letras a](#*P3_02.)  \n",
    "[P3_03. Impares en posición par](#*P3_03.)  \n",
    "[P3_04. Posición del menor](#P3_04.)  \n",
    "[P3_05. Número primo](#*P3_05.)  \n",
    "[P3_06. Mayor que 10](#P3_06.)  \n",
    "[P3_07. Suma con caracteres](#*P3_07.)  \n",
    "[P3_08. Intervalo](#P3_08.)  \n",
    "[P3_09. Suma hasta 2000](#*P3_09.)  \n",
    "[P3_10. MCD](#*P3_10.)  \n",
    "[P3_11. Progresión](#P3_11.)  \n",
    "[P3_12. Mayor diferencia](#P3_12.)  \n",
    "[P3_13. Cuenta 'a7'](#*P3_13.)   \n",
    "[P3_14. Factores primos](#*P3_14.)   \n",
    "[P3_15. Orden creciente](#*P3_15.)   \n",
    "[P3_16. Triángulo numérico](#P3_16.)     \n",
    "[P3_17. Cuadrado numérico](#*P3_17.)   \n",
    "[P3_18. Pares tras impar](#*P3_18.)   \n",
    "[P3_19. Mayor que precedente](#*P3_19.)  \n",
    "[P3_20. Positivos y negativos](#P3_20.)   "
   ]
  },
  {
   "cell_type": "markdown",
   "metadata": {
    "deletable": false,
    "editable": false
   },
   "source": [
    "### P3_01.  \n",
    "Escribe un programa que lea una secuencia de enteros terminada en 0 y devuelva la cantidad de números pares que contiene.  \n",
    "Nota: No contamos el 0 final.  \n",
    "Ejemplo:  \n",
    "~~~\n",
    "Introduce un número: 3\n",
    "Introduce otro número: 6\n",
    "Introduce otro número: 2\n",
    "Introduce otro número: 0\n",
    "Hay 2 pares\n",
    "\n",
    "~~~\n"
   ]
  },
  {
   "cell_type": "code",
   "execution_count": 1,
   "metadata": {},
   "outputs": [
    {
     "name": "stdout",
     "output_type": "stream",
     "text": [
      "Introduce un número:3\n",
      "Introduce otro número:4\n",
      "Introduce otro número:8\n",
      "Introduce otro número:0\n",
      "Hay 2 pares\n"
     ]
    }
   ],
   "source": [
    "# Este programa dice cunatos números pares hay en una secuencia terminada en '0'.\n",
    "n = int (input('Introduce un número:'))\n",
    "m = 0\n",
    "while n != 0:\n",
    "    if n%2==0:\n",
    "        m+=1\n",
    "    n = int (input ('Introduce otro número:'))\n",
    "print ('Hay {} pares'.format(m))"
   ]
  },
  {
   "cell_type": "markdown",
   "metadata": {
    "deletable": false,
    "editable": false
   },
   "source": [
    "### *P3_02.  \n",
    "Escribe un programa que lea una secuencia de caracteres terminada en punto (‘.’) y nos diga cuántas veces aparece la letra ‘a’ sin importar si está en mayúsculas o minúsculas.  \n",
    "Ejemplo:  \n",
    "~~~\n",
    "Introduce un carácter: r\n",
    "Introduce otro carácter: A\n",
    "Introduce otro carácter: t\n",
    "Introduce otro carácter: a\n",
    "Introduce otro carácter: s\n",
    "Introduce otro carácter: .\n",
    "Hay 2 aes\n",
    "\n",
    "~~~\n"
   ]
  },
  {
   "cell_type": "code",
   "execution_count": null,
   "metadata": {
    "collapsed": true
   },
   "outputs": [],
   "source": [
    "# Este programa dice cunatas letras 'a' hay en una secuencia terminada en '.'.\n",
    "n = input('Introduce un carácter:')\n",
    "m = 0\n",
    "while n!='.':\n",
    "    if n=='a' or n=='A':\n",
    "        m+=1\n",
    "    n = input ('Introduce otro carácter:')\n",
    "print ('Hay {} aes'.format(m))"
   ]
  },
  {
   "cell_type": "markdown",
   "metadata": {
    "deletable": false,
    "editable": false
   },
   "source": [
    "### *P3_03.  \n",
    "Escribe un programa que lea una secuencia de enteros terminada en 0 y devuelva el número de veces que un número impar está en posición par.  \n",
    "Ejemplo:  \n",
    "~~~\n",
    "Introduce un número: 3\n",
    "Introduce otro número: 5\n",
    "Introduce otro número: 2\n",
    "Introduce otro número: 1\n",
    "Introduce otro número: 0\n",
    "Hay 2 impares en posición par\n",
    "~~~\n",
    "Nota: El 3 éstá en la posición 0 y el 1 en la posición 3"
   ]
  },
  {
   "cell_type": "code",
   "execution_count": 3,
   "metadata": {},
   "outputs": [
    {
     "name": "stdout",
     "output_type": "stream",
     "text": [
      "Introduce un número:5\n",
      "Introduce otro número:3\n",
      "Introduce otro número:2\n",
      "Introduce otro número:1\n",
      "Introduce otro número:0\n",
      "Hay 2 impares en posicion par\n"
     ]
    }
   ],
   "source": [
    "# Este programa dice cunatos números impares hay en posición par en una secuencia terminada en '0'.\n",
    "n = int (input('Introduce un número:'))\n",
    "m = 0\n",
    "i = 0\n",
    "while n!=0:\n",
    "    m+=1\n",
    "    if n%2!=0 and m%2==0:\n",
    "        i+=1\n",
    "    n = int (input('Introduce otro número:'))\n",
    "print ('Hay {} impares en posicion par'.format(i))"
   ]
  },
  {
   "cell_type": "markdown",
   "metadata": {
    "deletable": false,
    "editable": false
   },
   "source": [
    "### P3_04.  \n",
    "Escribe un programa que solicite al usuario un número entero **num**. Entonces pedirá introducir tantos enteros como indique **num**. Cuando el usuario haya terminado de introducir los **num** números, el programa debe mostrar cuál es el menor de dichos números y en qué posición se ha introducido.   \n",
    "Ejemplo:  \n",
    "~~~\n",
    "Introduce cuántos números vas a introducir: 4 \n",
    "Introduce un número: 3\n",
    "Introduce otro número: 6\n",
    "Introduce otro número: 2\n",
    "Introduce otro número: 8\n",
    "El menor es el 2 y se ha introducido en la posición 2\n",
    "~~~\n",
    "\n",
    "    "
   ]
  },
  {
   "cell_type": "code",
   "execution_count": null,
   "metadata": {
    "collapsed": true
   },
   "outputs": [],
   "source": [
    "# Este programa pide una secuencia de la largura que se le indique y dice cuál es el menor y en que posicion está.\n",
    "a = int (input('Introduce cuantos números vas a introducir:'))\n",
    "b = 0\n",
    "c = int (input('Introduce un número:'))\n",
    "menor = c\n",
    "posicion=b\n",
    "for i in range (a-1):\n",
    "    b+=1\n",
    "    d = int (input('Introduce un número:'))\n",
    "    if c>d:\n",
    "        menor = d\n",
    "        posicion = b\n",
    "print ('El menor es el {} y se ha introducido en la posición {}'.format(menor, posicion))"
   ]
  },
  {
   "cell_type": "markdown",
   "metadata": {
    "deletable": false,
    "editable": false
   },
   "source": [
    "### *P3_05.  \n",
    "Escribe un programa que lea un entero positivo **num** y compruebe si es primo.  \n",
    "Ejemplo:  \n",
    "~~~\n",
    "Introduce un número positivo: 247\n",
    "247 NO es primo\n",
    "~~~  "
   ]
  },
  {
   "cell_type": "code",
   "execution_count": null,
   "metadata": {
    "collapsed": true
   },
   "outputs": [],
   "source": [
    "# Este programa dice si un número introducido es primo o no.\n",
    "n = int (input('Introduce un número positivo:'))\n",
    "esPrimo = True\n",
    "for i in range(2,n):\n",
    "    if n%i==0:\n",
    "        esPrimo = False\n",
    "    break\n",
    "if esPrimo:\n",
    "    print ('{} es primo'.format(n))\n",
    "else:\n",
    "    print ('{} NO es primo'.format(n)) "
   ]
  },
  {
   "cell_type": "markdown",
   "metadata": {
    "deletable": false,
    "editable": false
   },
   "source": [
    "### P3_06.  \n",
    "Desarrolla un programa que nos pida un número y nos siga pidiendo números hasta que introduzcamos uno mayor que 10.    \n",
    "Ejemplo:   \n",
    "~~~\n",
    "    Introduce un número: 4  \n",
    "\tNo es mayor que 10, introduce otro: 7  \n",
    "    No es mayor que 10, introduce otro: 15\n",
    "    Correcto, 15 es mayor que 10\n",
    "~~~\n",
    "\n",
    "    "
   ]
  },
  {
   "cell_type": "code",
   "execution_count": null,
   "metadata": {
    "collapsed": true
   },
   "outputs": [],
   "source": [
    "# Este programa pide números hasta que introduzcamos uno mayor que 10.\n",
    "n = int (input('Introduce un número:'))\n",
    "while n<=10:\n",
    "    n = int (input('No es mayor que 10, introduce otro:'))\n",
    "print ('Correcto, {} es mayor que 10'.format(n))"
   ]
  },
  {
   "cell_type": "markdown",
   "metadata": {
    "deletable": false,
    "editable": false
   },
   "source": [
    "### *P3_07.  \n",
    "Escribe un programa que lea una secuencia de caracteres terminada en ‘0’ y realice una suma de acuerdo a las siguientes reglas:  \n",
    "\n",
    "•\tLas letras minúsculas valen 1 punto.  \n",
    "\n",
    "•\tLas mayúsculas valen 2 puntos.  \n",
    "\n",
    "•\tLos dígitos valen su propio valor numérico. (Por ejemplo, ‘5’ vale 5). Puedes usar la función **ord()** sabiendo que **ord(car)** devuelve el valor ASCII del carácter almacenado en la variable **car**. El valor del dígito ‘0’ en la tabla ASCII es 48.\n",
    "\n",
    "•\tCualquier otro carácter vale 0.  \n",
    " \n",
    "Ejemplo:  \n",
    "~~~\n",
    "Introduce una secuencia terminada en ‘0’:\n",
    "a  \n",
    "P  \n",
    "E  \n",
    ",  \n",
    "4  \n",
    "0\n",
    "La suma es 9\n",
    "\n",
    "~~~ "
   ]
  },
  {
   "cell_type": "code",
   "execution_count": 1,
   "metadata": {},
   "outputs": [
    {
     "name": "stdout",
     "output_type": "stream",
     "text": [
      "Introduce una secuencia terminada en 0:\n",
      "h\n",
      "\n",
      "f\n",
      "d\n",
      "s\n",
      "\n",
      "sa\n",
      "A\n",
      "S\n",
      "D\n",
      "7\n",
      "0\n",
      "La suma es 19\n"
     ]
    }
   ],
   "source": [
    "# Este programa pide una secuencia de carácteres terminada en '0' y realiza una suma de acuerdo a unas reglas.\n",
    "a = ('abcdefghijklmnñopqrstuvwxyz')\n",
    "b = ('ABCDEFGHIJKLMNÑOPQRSTUVWXYZ')\n",
    "c= ('0123456789')\n",
    "suma=0\n",
    "n = input('Introduce una secuencia terminada en 0:\\n')\n",
    "while n!='0':\n",
    "    if n in a:\n",
    "        suma+=1\n",
    "    elif n in b:\n",
    "        suma+=2\n",
    "    elif n in c:\n",
    "        m = ord (n) - 48\n",
    "        suma+=m\n",
    "    n = input ('')\n",
    "print ('La suma es', suma) "
   ]
  },
  {
   "cell_type": "markdown",
   "metadata": {
    "deletable": false,
    "editable": false
   },
   "source": [
    "### P3_08.  \n",
    "Escribe un programa que solicite dos enteros y posteriormente admita números hasta que alguno esté fuera de ese intervalo.    \n",
    "Ejemplo: \n",
    "~~~\n",
    "Introduce valor inferior: 3\n",
    "Introduce valor superior: 12\n",
    "Introduce un número: 6  \n",
    "Introduce un número: 12  \n",
    "Introduce un número: 10   \n",
    "Introduce un número: 23  \n",
    "El 23 se sale del intervalo\n",
    "~~~\n",
    "    "
   ]
  },
  {
   "cell_type": "code",
   "execution_count": null,
   "metadata": {
    "collapsed": true
   },
   "outputs": [],
   "source": [
    "# Este programa pide dos enteros y admite mas números hasta que alguno esté fuera de ese intervalo.\n",
    "n = int (input('Introduce el valor inferior: '))\n",
    "m = int (input('Introduce el valor superior: '))\n",
    "i = int (input('Introduce un número: '))\n",
    "while i>=n and i<=m:\n",
    "    i = int (input('Introduce un número'))\n",
    "print ('El {} se sale del intervalo'.format(i))"
   ]
  },
  {
   "cell_type": "markdown",
   "metadata": {
    "deletable": false,
    "editable": false
   },
   "source": [
    "### *P3_09.  \n",
    "Escribe un programa que sume enteros a medida que el usuario los vaya introduciendo por teclado. El programa se detendrá cuando la suma sea mayor que 2000. El programa debe informar al usuario de cuántos números se han introducido, la suma final de los números y los valores mayor y menor de la secuencia.  \n",
    "Ejemplo: \n",
    "~~~\n",
    "Introduce una secuencia de enteros: \n",
    "648   \n",
    "823  \n",
    "203   \n",
    "784   \n",
    "Se han introducido 4 números, la suma es 2458 y los valores mayor y menor son 823 y 203\n",
    "\n",
    "~~~\n",
    "\n",
    "    "
   ]
  },
  {
   "cell_type": "code",
   "execution_count": null,
   "metadata": {
    "collapsed": true
   },
   "outputs": [],
   "source": [
    "# Este programa pide números hasta que su suma sea mayor que 2000 y dice cuántos números se \n",
    "# han introducido, la suma final de los números y los valores mayor y menor de la secuencia.\n",
    "n = int (input('Introduce una secuencia de enteros:\\n'))\n",
    "s = n\n",
    "i = 1\n",
    "menor = n\n",
    "mayor = n\n",
    "while s<=2000:\n",
    "    m = int (input())\n",
    "    if mayor<m:\n",
    "        mayor = m\n",
    "    if menor>m:\n",
    "        menor = m\n",
    "    s+=m\n",
    "    i+=1\n",
    "print ('Se han introducido {} números, la suma es {} y los valores mayor y menor son {} y {}'.format(i,s,mayor,menor))"
   ]
  },
  {
   "cell_type": "markdown",
   "metadata": {
    "deletable": false,
    "editable": false
   },
   "source": [
    "### *P3_10.  \n",
    "Escribe un programa que lea dos enteros positivos y nos diga cuál es su Máximo Común Divisor (MCD).  \n",
    "Ejemplo: \n",
    "~~~\n",
    "Introduce 2 enteros positivos: \n",
    "32  \n",
    "24\n",
    "El MCD es 8\n",
    "\n",
    "~~~\n",
    "    "
   ]
  },
  {
   "cell_type": "code",
   "execution_count": null,
   "metadata": {
    "collapsed": true
   },
   "outputs": [],
   "source": [
    "# Este programa pide dos enteros positivos y dice cuál es su Máximo Común Divisor (MCD).\n",
    "n = int(input(\"Introduce el primer numero:\"))\n",
    "m = int(input(\"Introduce el segundo numero:\"))\n",
    "MCD = False\n",
    "if m<n:\n",
    "    aux=n\n",
    "    n=m\n",
    "    m=aux\n",
    "c=n\n",
    "while MCD is False and c>=1:\n",
    "    if n%c==0 and m%c==0:\n",
    "        print('El M.C.D. entre {} y {} es: {}'.format(n, m, c))\n",
    "        MCD = True\n",
    "    else:\n",
    "        c-=1"
   ]
  },
  {
   "cell_type": "markdown",
   "metadata": {
    "deletable": false,
    "editable": false
   },
   "source": [
    "### P3_11.  \n",
    "Escribe un programa que muestre los **m** (**m**>=3) primeros términos de la serie generada de la siguiente manera:  \n",
    "•\tPrimer término: 1  \n",
    "•\tSegundo término: 5  \n",
    "•\tTercer término y siguientes: suma de los dos anteriores.   \n",
    "    \n",
    "Ejemplo: \n",
    "~~~\n",
    "¿Cuántos términos quieres mostrar?: 8  \n",
    "La serie es:  1  5  6  11  17  28  45  73 \n",
    "\n",
    "~~~"
   ]
  },
  {
   "cell_type": "code",
   "execution_count": null,
   "metadata": {
    "collapsed": true
   },
   "outputs": [],
   "source": [
    "# Este programa pide una secuencia de la largura que indiquemos sumando el propio número más el anterior.\n",
    "n = int (input ('¿Cuántos términos quieres mostrar?:'))\n",
    "a=1\n",
    "b=5\n",
    "print ('La serie es: ',a,'', b, end='  ')\n",
    "for i in range (n-2):\n",
    "    c= a+b\n",
    "    print (c, end='  ')\n",
    "    a=b\n",
    "    b=c"
   ]
  },
  {
   "cell_type": "markdown",
   "metadata": {
    "deletable": false,
    "editable": false
   },
   "source": [
    "### P3_12.  \n",
    "Implementa un programa que solicite **n** números. Tiene que decirnos la mayor diferencia  (en valor absoluto)  entre dos términos consecutivos.  \n",
    "Ejemplo: \n",
    "~~~\n",
    "¿Cuántos términos vas a introducir?: 6\n",
    "Introduce los 6 números: \n",
    "3  \n",
    "-8     \n",
    "-2  \n",
    "30  \n",
    "7   \n",
    "6\n",
    "La máxima diferencia entre dos términos consecutivos es 32\n",
    "\n",
    "~~~"
   ]
  },
  {
   "cell_type": "code",
   "execution_count": null,
   "metadata": {
    "collapsed": true
   },
   "outputs": [],
   "source": [
    "# Este programa pide una secuencia de la largura que indiquemos y dice la  \n",
    "# mayor diferencia (en valor absoluto) entre dos términos consecutivos.\n",
    "n = int (input('¿Cuántos términos vas a introducir?:'))\n",
    "a= int (input ('Introduce los números:\\n'))\n",
    "b= int (input(''))\n",
    "c=b-a\n",
    "mayor=c\n",
    "for i in range (n-2):\n",
    "    d= int (input(''))\n",
    "    e=b-d\n",
    "    if mayor<0:\n",
    "        c*=(-1)\n",
    "    if e<0:\n",
    "        e*=(-1)    \n",
    "    if e>mayor:\n",
    "        mayor=e\n",
    "    b=d\n",
    "print ('La máxima diferencia entre dos términos consecutivos es {}'.format(mayor))"
   ]
  },
  {
   "cell_type": "markdown",
   "metadata": {
    "deletable": false,
    "editable": false
   },
   "source": [
    "### *P3_13.  \n",
    "Escribe un programa que lea una secuencia de caracteres terminada en ‘.’ y nos diga cuántas veces aparece la secuencia ‘a7’.    \n",
    "Ejemplo: \n",
    "~~~\n",
    "Introduce una secuencia de caracteres terminada en‘.’:\n",
    "R  \n",
    "t  \n",
    "5  \n",
    "4  \n",
    "a  \n",
    "a  \n",
    "7  \n",
    "A  \n",
    "a  \n",
    "7  \n",
    "2\n",
    ".\n",
    "La secuencia a7 aparece 2 veces\n",
    "\n",
    "\n",
    "~~~"
   ]
  },
  {
   "cell_type": "code",
   "execution_count": null,
   "metadata": {
    "collapsed": true
   },
   "outputs": [],
   "source": [
    "# Este programa pide una secuencia de carácteres terminada en '.' y dice cuántas veces aparece la secuencia 'a7'.\n",
    "n = input ('Introduce una secuencia de carácteres terminada en \".\":')\n",
    "a=0\n",
    "b=n\n",
    "while n!='.':\n",
    "    n= input ('')\n",
    "    if b =='a' and n =='7':\n",
    "        a+=1\n",
    "    b=n\n",
    "print ('La secuencia a7 aparece {} veces'.format(a))"
   ]
  },
  {
   "cell_type": "markdown",
   "metadata": {
    "deletable": false,
    "editable": false
   },
   "source": [
    "### *P3_14.  \n",
    "Escribe un programa que descomponga un número en sus factores primos.      \n",
    "Ejemplo: \n",
    "~~~\n",
    "Introduce un número: 90\n",
    "Sus factores primos son 2  3  3  5\n",
    "~~~"
   ]
  },
  {
   "cell_type": "code",
   "execution_count": null,
   "metadata": {
    "collapsed": true
   },
   "outputs": [],
   "source": [
    "# Este programa descompone un número en sus factores primos.\n",
    "n = int (input('Introduce un número:'))\n",
    "a=2\n",
    "b=n\n",
    "suma=1\n",
    "print ('Sus factores primos son', end=' ')\n",
    "while suma<=b:\n",
    "    if n%a==0:\n",
    "        print (a, end='  ')\n",
    "        suma*=a\n",
    "        n=n/a\n",
    "    else:\n",
    "        a+=1"
   ]
  },
  {
   "cell_type": "markdown",
   "metadata": {
    "deletable": false,
    "editable": false
   },
   "source": [
    "### *P3_15.  \n",
    "Escribe un programa que nos pida un número **n**. Posteriormente tendrá que leer **n** enteros y decirnos si estaban en orden creciente.  \n",
    "Ejemplo: \n",
    "~~~\n",
    "Introduce el número n: 6  \n",
    "Introduce número: 3  \n",
    "Introduce número: 7  \n",
    "Introduce número: 12  \n",
    "Introduce número: 18  \n",
    "Introduce número: 9 \n",
    "Introduce número: 21 \n",
    "La secuencia NO es creciente\n",
    "\n",
    "~~~"
   ]
  },
  {
   "cell_type": "code",
   "execution_count": null,
   "metadata": {
    "collapsed": true
   },
   "outputs": [],
   "source": [
    "# Este programa pide una secuencia de la largura que iniquemos y dice si es creciente o no.\n",
    "n = int (input('Introduce el numero n: '))\n",
    "a = int (input('Introduce número:'))\n",
    "creciente = True\n",
    "for i in range (n-1):\n",
    "    b = int (input('Introduce número:'))\n",
    "    if a>b:\n",
    "        creciente = False\n",
    "    a=b\n",
    "if creciente==True:\n",
    "    print ('La secuencia es creciente')\n",
    "else:\n",
    "    print ('La secuencia NO es creciente')"
   ]
  },
  {
   "cell_type": "markdown",
   "metadata": {
    "deletable": false,
    "editable": false
   },
   "source": [
    "### P3_16.  \n",
    "Escribe un programa que lea un entero **n** y construya en pantalla un dibujo como el de los ejemplos.    \n",
    "Ejemplos: \n",
    "~~~\n",
    "Introduce un entero: 4\t        Introduce un entero: 5\n",
    "\n",
    "    1                               1  \n",
    "    1 2                             1 2  \n",
    "    1 2 3                           1 2 3  \n",
    "\t1 2 3 4                         1 2 3 4  \n",
    "\t                                1 2 3 4 5   \n",
    "~~~"
   ]
  },
  {
   "cell_type": "code",
   "execution_count": null,
   "metadata": {
    "collapsed": true
   },
   "outputs": [],
   "source": [
    "# Este programa pide un número y construye un dibujo como el de los ejemplos.\n",
    "n = int (input('Introduce un entero: '))\n",
    "for i in range (n+1):\n",
    "    for j in range (i):\n",
    "        print (j+1, '  ', end='')\n",
    "    print()"
   ]
  },
  {
   "cell_type": "markdown",
   "metadata": {
    "deletable": false,
    "editable": false
   },
   "source": [
    "### *P3_17.  \n",
    "Escribe un programa que lea un entero **n** y construya en pantalla un dibujo como el de los ejemplos:    \n",
    "Ejemplos: \n",
    "~~~\n",
    "Introduce un entero: 4\t        Introduce un entero: 5\n",
    "\n",
    "    1 2 3 4                         1 2 3 4 5    \n",
    "    2 3 4 4                         2 3 4 5 5  \n",
    "    3 4 4 4                         3 4 5 5 5  \n",
    "    4 4 4 4                         4 5 5 5 5  \n",
    "                                    5 5 5 5 5  \n",
    "~~~"
   ]
  },
  {
   "cell_type": "code",
   "execution_count": null,
   "metadata": {
    "collapsed": true
   },
   "outputs": [],
   "source": [
    "# Este programa pide un número y construye un dibujo como el de los ejemplos.\n",
    "n = int (input('Introduce un entero: '))\n",
    "for i in range(n):\n",
    "    for j in range (n-i):\n",
    "        print (i+1+j, end=' ')\n",
    "    for j in range (i):\n",
    "        print (n, end=' ')\n",
    "    print ()"
   ]
  },
  {
   "cell_type": "markdown",
   "metadata": {
    "deletable": false,
    "editable": false
   },
   "source": [
    "### *P3_18.  \n",
    "Escribe un programa que lea una secuencia de enteros terminada en 0 y nos diga cuántos números pares hay después del primer impar. No se cuenta el 0 final.       \n",
    "Ejemplo: \n",
    "~~~\n",
    "Introduce una secuencia:\n",
    "6  \n",
    "2  \n",
    "2  \n",
    "34  \n",
    "1  \n",
    "7  \n",
    "6  \n",
    "19  \n",
    "0\n",
    "Hay 1 números pares después del primer impar\n",
    "~~~\n",
    "Nota: Podemos mejorar el programa haciendo que salgan mensajes acordes a la respuesta. \n",
    "~~~\n",
    "No hay números pares después del primer impar      \n",
    "Hay un número par después del primer impar  \n",
    "Hay 4 números pares después del primer impar  \n",
    "~~~"
   ]
  },
  {
   "cell_type": "code",
   "execution_count": null,
   "metadata": {
    "collapsed": true
   },
   "outputs": [],
   "source": [
    "# Este programa dice cunatos números pares hay después del primer impar en una secuencia terminada en '0'.\n",
    "n = int (input('Introduce una secuencia terminada en 0:\\n'))\n",
    "t=n\n",
    "contador=-1\n",
    "while t!=0:\n",
    "    m= int (input(''))\n",
    "    if n%2!=0:\n",
    "        if m%2==0:\n",
    "            contador+=1\n",
    "    else:\n",
    "        n=m\n",
    "    t=m\n",
    "if contador !=0: \n",
    "    print ('Hay {} números pares después del primer impar'.format(contador))\n",
    "else:\n",
    "    print ('No hay números pares después del primer impar')"
   ]
  },
  {
   "cell_type": "markdown",
   "metadata": {
    "deletable": false,
    "editable": false
   },
   "source": [
    "### *P3_19.  \n",
    "Escribe un programa que lea una secuencia de **n** enteros y nos diga cuántos elementos de la secuencia son mayores que el que les precede.          \n",
    "Ejemplo: \n",
    "~~~\n",
    "Introduce una secuencia:\n",
    "6  \n",
    "2  \n",
    "2  \n",
    "34  \n",
    "1  \n",
    "7  \n",
    "6  \n",
    "19  \n",
    "Hay 3 números mayores que el que les precede.\n",
    "~~~\n",
    "Nota: Podemos mejorar el programa haciendo que salgan mensajes acordes a la respuesta. \n",
    "~~~\n",
    "Ningún número es mayor que el que le precede \n",
    "~~~"
   ]
  },
  {
   "cell_type": "code",
   "execution_count": null,
   "metadata": {
    "collapsed": true
   },
   "outputs": [],
   "source": [
    "# Este programa pide una secuencia de la largura que introduzcamos y dice \n",
    "# cuántos elementos de la secuencia son mayores que el que les precede.\n",
    "n= int (input ('¿Cuántos números quieres leer?:'))\n",
    "a = int (input('Introduce una secuencia:\\n'))\n",
    "contador=0\n",
    "for i in range (n-1):\n",
    "    b= int (input (''))\n",
    "    if a<b:\n",
    "        contador+=1\n",
    "    a=b\n",
    "if contador!=0:\n",
    "    print ('Hay {} números mayores que el que les precede.'.format(contador))\n",
    "else:\n",
    "    print ('Ningún número es mayor que el que le precede')"
   ]
  },
  {
   "cell_type": "markdown",
   "metadata": {
    "deletable": false,
    "editable": false
   },
   "source": [
    "### P3_20.  \n",
    "Crea un programa que lea **n** enteros y nos diga cuántos positivos y negativos hay.          \n",
    "Ejemplo: \n",
    "~~~\n",
    "¿Cuántos números quieres leer?: 5\n",
    "6  \n",
    "-2  \n",
    "2  \n",
    "-34  \n",
    "1  \n",
    "Hay 2 negativos y 3 positivos\n",
    "~~~"
   ]
  },
  {
   "cell_type": "code",
   "execution_count": null,
   "metadata": {
    "collapsed": true
   },
   "outputs": [],
   "source": [
    "# Este programa pide una secuencia de la largura que introduzcamos y dice cuántos positivos y negativos hay.\n",
    "n= int (input('¿Cuántos números quieres leer?: '))\n",
    "negativos=0\n",
    "positivos=0\n",
    "for i in range (n):\n",
    "    a= int (input (''))\n",
    "    if a<0:\n",
    "        negativos+=1\n",
    "    elif a>0:\n",
    "        positivos+=1\n",
    "print ('Hay {} negativos y {} positivos'.format(negativos, positivos))"
   ]
  }
 ],
 "metadata": {
  "kernelspec": {
   "display_name": "Python 3",
   "language": "python",
   "name": "python3"
  },
  "language_info": {
   "codemirror_mode": {
    "name": "ipython",
    "version": 3
   },
   "file_extension": ".py",
   "mimetype": "text/x-python",
   "name": "python",
   "nbconvert_exporter": "python",
   "pygments_lexer": "ipython3",
   "version": "3.6.5"
  }
 },
 "nbformat": 4,
 "nbformat_minor": 2
}
