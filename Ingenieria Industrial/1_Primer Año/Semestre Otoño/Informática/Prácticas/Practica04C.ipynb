{
 "cells": [
  {
   "cell_type": "markdown",
   "metadata": {
    "deletable": false,
    "editable": false
   },
   "source": [
    "# Práctica 04. Cadenas."
   ]
  },
  {
   "cell_type": "markdown",
   "metadata": {
    "deletable": false,
    "editable": false
   },
   "source": [
    "# Índice de ejercicios\n",
    "\n",
    "[P4_01. Cuenta mayúsculas](#P4_01.)  \n",
    "[P4_02. Busca carácter](#*P4_02.)  \n",
    "[P4_03. Terminadas en s](#P4_03.)  \n",
    "[P4_04. Subsecuencia de dígitos](#*P4_04.)   \n",
    "[P4_05. Algún dígito](#*P4_05.)  \n",
    "[P4_06. Todos dígitos](#*P4_06.)  \n",
    "[P4_07. Cambia dígitos por guión](#P4_07.)   \n",
    "[P4_08. Secuencia + y -](#P4_08.)   \n",
    "[P4_09. Palíndromo](#*P4_09.)  \n",
    "[P4_10. Triángulo invertido](#P4_10.)    \n",
    "[P4_11. Mayúsculas primero](#*P4_11.)  \n"
   ]
  },
  {
   "cell_type": "markdown",
   "metadata": {
    "deletable": false,
    "editable": false
   },
   "source": [
    "### P4_01.  \n",
    "Desarrolla un programa que lea una cadena de caracteres y cuente el número de mayúsculas y del resto de caracteres que contiene.  \n",
    "Ejemplo:  \n",
    "~~~\n",
    "Introduce una frase: La caSa tiENe UnA PuertA  \n",
    "La frase tiene 8 mayúsculas y 16 caracteres que no lo son\n",
    "~~~\n"
   ]
  },
  {
   "cell_type": "code",
   "execution_count": null,
   "metadata": {},
   "outputs": [],
   "source": [
    "# Este programa cuenta el número de mayúsculas en una cadena.\n",
    "n = input('Introduce una frase: ')\n",
    "a = ('ABCDEFGHIJKLMNÑOPQRSTUVWXYZ')\n",
    "mayusculas = 0\n",
    "otros = 0\n",
    "for i in range (len (n)):\n",
    "    if n[i] in a:\n",
    "        mayusculas+=1\n",
    "    else:\n",
    "        otros+=1\n",
    "print ('La frase tiene {} mayúsculas y {} caracteres que no lo son'.format(mayusculas, otros))"
   ]
  },
  {
   "cell_type": "markdown",
   "metadata": {
    "deletable": false,
    "editable": false
   },
   "source": [
    "### *P4_02.  \n",
    "Escribe un programa que tome un carácter introducido por el usuario. Posteriormente pedirá al usuario una frase. El programa nos indicará en qué posición de la frase aparece dicho carácter por primera vez y cuántas veces está.   \n",
    "Ejemplo:  \n",
    "~~~\n",
    "Introduce un carácter: r  \n",
    "Introduce una frase: En enero iremos a Roma con una caravana.  \n",
    "Hay 3 caracteres r y el primero está en la posición 6\n",
    "~~~\n"
   ]
  },
  {
   "cell_type": "code",
   "execution_count": null,
   "metadata": {},
   "outputs": [],
   "source": [
    "# Este programa dice cunatas veces aparece un carácter en una \n",
    "# cadena y la posición en la que aparece por primera vez.\n",
    "n = input ('Introduce un carácter: ')\n",
    "m = input ('Introduce una frase: ')\n",
    "contador = m.count (n)\n",
    "posicion = 0\n",
    "for i in range (len (m)):\n",
    "    if m[i] == n:\n",
    "        posicion=i\n",
    "        break \n",
    "print ('Hay {} caracteres {} y el primero está en la posición {}'.format(contador, n, posicion))"
   ]
  },
  {
   "cell_type": "markdown",
   "metadata": {
    "deletable": false,
    "editable": false
   },
   "source": [
    "### P4_03.  \n",
    "Implementa un programa que solicite una cadena de caracteres (debe ser una frase) y nos diga cuántas palabras terminan en ‘s’.  \n",
    "Ejemplo:  \n",
    "~~~\n",
    "Introduce una frase: Esta es una frase para probar el programa que cuenta palabras terminadas en s.  \n",
    "El número de palabras terminadas en s es 4\n",
    "~~~"
   ]
  },
  {
   "cell_type": "code",
   "execution_count": null,
   "metadata": {},
   "outputs": [],
   "source": [
    "# Este programa cuenta el número de palabras que terminan en s en una cadena.\n",
    "n = input ('Introduce una frase: ')\n",
    "lista = n.split()\n",
    "contador = 0\n",
    "for i in lista:\n",
    "    if i[len (i)-1]=='s':\n",
    "        contador+=1\n",
    "print ('El número de palabras terminadas en s es {}'.format(contador))"
   ]
  },
  {
   "cell_type": "markdown",
   "metadata": {
    "deletable": false,
    "editable": false
   },
   "source": [
    "### *P4_04.  \n",
    "Crea un programa que lea una secuencia de caracteres y devuelva la longitud de la mayor subsecuencia de dígitos que hayan sido introducidos.  \n",
    "Ejemplo:  \n",
    "~~~\n",
    "Introduce una cadena: efg316er4li98bdtr421p43  \n",
    "La longitud de la mayor subsecuencia de dígitos es 3  \n",
    "~~~\n",
    "\n",
    "    "
   ]
  },
  {
   "cell_type": "code",
   "execution_count": null,
   "metadata": {},
   "outputs": [],
   "source": [
    "# Este programa dice la mayor subscuencia de dígitos de una cadena.\n",
    "n = input ('Introduce una cadena: ')\n",
    "a = ('0123456789')\n",
    "b=''\n",
    "c=0\n",
    "d=0\n",
    "mayor=0\n",
    "for i in range (len(n)):\n",
    "    if n[i] in a:\n",
    "        b+=n[i]\n",
    "    else:\n",
    "        b+=' '\n",
    "c = b.split()\n",
    "for j in range (len(c)):\n",
    "    d=len(c[j])\n",
    "    if d>mayor:\n",
    "        mayor=d\n",
    "print ('La longitud de la mayor subsecuencia de dígitos es', mayor)"
   ]
  },
  {
   "cell_type": "markdown",
   "metadata": {
    "deletable": false,
    "editable": false
   },
   "source": [
    "### *P4_05.  \n",
    "Crea un programa que lea una cadena de caracteres y nos diga si contiene ALGÚN dígito.\n",
    "~~~\n",
    "Introduce una cadena: efg316er4li98bdtr421p43  \n",
    "La cadena contiene al menos un dígito\n",
    "~~~\n",
    "\n",
    "    "
   ]
  },
  {
   "cell_type": "code",
   "execution_count": null,
   "metadata": {},
   "outputs": [],
   "source": [
    "# Este programa dice si la cadena tiene algún dígito.\n",
    "n = input ('Introduce una cadena: ')\n",
    "a = ('0123456789')\n",
    "digitos = 0\n",
    "for i in range (len(n)):\n",
    "    if n[i] in a:\n",
    "        digitos+=1\n",
    "if digitos !=0:\n",
    "    print ('La cadena contiene al menos un dígito')\n",
    "else:\n",
    "    print ('La cadena NO contiene ningún dígito')"
   ]
  },
  {
   "cell_type": "markdown",
   "metadata": {
    "deletable": false,
    "editable": false
   },
   "source": [
    "### *P4_06.  \n",
    "Crea un programa que lea una cadena de caracteres y nos diga si TODOS son dígitos.\n",
    "~~~\n",
    "Introduce una cadena: efg316er4li98bdtr421p43  \n",
    "No todos los caracteres son dígitos\n",
    "~~~\n",
    "\n",
    "    "
   ]
  },
  {
   "cell_type": "code",
   "execution_count": null,
   "metadata": {},
   "outputs": [],
   "source": [
    "# Este programa nos dice si todos los carácteres de una cadena son d\n",
    "n = input ('Introduce una cadena: ')\n",
    "a = ('0123456789')\n",
    "digitos = True\n",
    "for i in range (len(n)):\n",
    "    if n[i] not in a:\n",
    "        digitos = False\n",
    "if digitos:\n",
    "    print ('Todos los caracteres son dígitos')\n",
    "else:\n",
    "    print ('No todos los caracteres son dígitos')"
   ]
  },
  {
   "cell_type": "markdown",
   "metadata": {
    "deletable": false,
    "editable": false
   },
   "source": [
    "### P4_07.  \n",
    "Crea un programa que lea una cadena de caracteres y cree una nueva cadena sustituyendo todos los dígitos por un guíon.\n",
    "~~~\n",
    "Introduce una cadena: efg316er4li98bdtr421p43  \n",
    "La nueva cadena es: efg---er-li--bdtr---p--\n",
    "~~~\n",
    "\n",
    "    "
   ]
  },
  {
   "cell_type": "code",
   "execution_count": null,
   "metadata": {},
   "outputs": [],
   "source": [
    "# Este programa sustituye los dígitos de una cadena por guiones.\n",
    "n = input ('Introduce una cadena: ')\n",
    "a = ('0123456789')\n",
    "m = ''\n",
    "for i in range (len(n)):\n",
    "    if n[i] in a:\n",
    "        m+='-'\n",
    "    else:\n",
    "        m+= n[i]\n",
    "print ('La nueva cadena es:',m)"
   ]
  },
  {
   "cell_type": "markdown",
   "metadata": {
    "deletable": false,
    "editable": false
   },
   "source": [
    "### P4_08.  \n",
    "Escribe un programa que lea una secuencia de caracteres ‘+’ y ‘-‘ y escriba la longitud de cada secuencia de signos ‘+’ y ‘-‘.  \n",
    "Ejemplo: \n",
    "~~~\n",
    "Introduce la secuencia: +++-++----  \n",
    "3 1 2 4\n",
    "~~~\n"
   ]
  },
  {
   "cell_type": "code",
   "execution_count": null,
   "metadata": {},
   "outputs": [],
   "source": [
    "# Este programa dice la longitud de cada subsecuencia de signos diferentes. \n",
    "n = input ('Introduce la secuencia:')\n",
    "a=''\n",
    "for i in range (len(n)):\n",
    "    if n[i]=='+':\n",
    "        a+=n[i]\n",
    "    if n[i]=='-':\n",
    "        a+=n[i]\n",
    "    if n[i:i+2]=='-+' or n[i:i+2]=='+-':\n",
    "        a+=' '\n",
    "b=a.split()\n",
    "for j in b:\n",
    "    print(len(j), end=' ')   "
   ]
  },
  {
   "cell_type": "markdown",
   "metadata": {
    "deletable": false,
    "editable": false
   },
   "source": [
    "### *P4_09.  \n",
    "Escribe un programa que lea una cadena de caracteres y compruebe si es un palíndromo (Un palíndromo es una palabra o frase que se lee igual al derecho y al revés, por ejemplo: rayar).  \n",
    "Ejemplo:  \n",
    "~~~\n",
    "Introduce una cadena de caracteres: anilina\n",
    "La cadena anilina es palíndroma\n",
    "~~~\n",
    "Mejora el programa para que detecte frases palíndromas tales como:\n",
    "~~~\n",
    "Dábale arroz a la zorra el abad\n",
    "~~~"
   ]
  },
  {
   "cell_type": "code",
   "execution_count": 7,
   "metadata": {},
   "outputs": [
    {
     "name": "stdout",
     "output_type": "stream",
     "text": [
      "Introduce una cadena de carácteres: Dábale arroz a la zorra el abad.\n",
      "dabalearrozalazorraelabad dabalearrozalazorraelabad\n",
      "La cadena Dábale arroz a la zorra el abad. es palíndroma\n"
     ]
    }
   ],
   "source": [
    "# Este programa dice si una cadena es palindroma o no.\n",
    "def acentos (x):\n",
    "    m = ''\n",
    "    a = 'abcdefghijklmnñopqrstuvwxyzABCDEFGHIJKLMNÑOPQRSTUVWXYZ'\n",
    "    b ='áÁ'\n",
    "    c = 'éÉ'\n",
    "    d = 'íÍ'\n",
    "    e = 'óÓ'\n",
    "    f = 'úÚ'\n",
    "    for i in range (len(x)):\n",
    "        if x[i] in a:\n",
    "            m+=x[i]\n",
    "        if x[i] in b:\n",
    "            m+= 'a'\n",
    "        if x[i] in c:\n",
    "            m+= 'e'\n",
    "        if x[i] in d:\n",
    "            m+= 'i'\n",
    "        if x[i] in e:\n",
    "            m+= 'o'\n",
    "        if x[i] in f:\n",
    "            m+='u'\n",
    "    return m\n",
    "\n",
    "n = input('Introduce una cadena de carácteres: ')\n",
    "a=''\n",
    "for i in n:\n",
    "    if i!=' ':\n",
    "        a+=i\n",
    "a=a.lower()\n",
    "a=acentos(a)\n",
    "m=a[::-1]\n",
    "palindroma = True\n",
    "for j in range (len (a)):\n",
    "    if a[j]!=m[j]:\n",
    "        palindroma = False\n",
    "if palindroma:\n",
    "    print ('La cadena {} es palíndroma'.format(n))\n",
    "else:\n",
    "    print ('La cadena {} NO es palíndroma'.format(n))"
   ]
  },
  {
   "cell_type": "markdown",
   "metadata": {
    "deletable": false,
    "editable": false
   },
   "source": [
    "### P4_10.  \n",
    "Escribe un programa que lea una palabra. El programa mostrará en pantalla un dibujo como el del ejemplo. Usa la función **len()** para determinar el número de letras que tiene.\n",
    "\n",
    "Ejemplos:  \n",
    "~~~\n",
    "Introduce la palabra: TARAZONA\n",
    "T  A  R  A  Z  O  N  A       \n",
    "   A  R  A  Z  O  N     \n",
    "      R  A  Z  O    \n",
    "         A  Z    \n",
    "\n",
    "Introduce la palabra: CADIZ\n",
    "C  A  D  I  Z  \n",
    "   A  D  I\t\n",
    "      D\t\t\n",
    "~~~\n"
   ]
  },
  {
   "cell_type": "code",
   "execution_count": null,
   "metadata": {},
   "outputs": [],
   "source": [
    "# Este programa hace el dibujo del ejemplo con una cadena.\n",
    "n = input ('Introduce la palabra: ')\n",
    "for i in range ((len (n)+1) // 2):\n",
    "    for j in range (i):\n",
    "        print (' ', end=' ')\n",
    "    for j in range (len (n)-2*i):\n",
    "        print (n[j+i], end=' ')\n",
    "    print ()"
   ]
  },
  {
   "cell_type": "markdown",
   "metadata": {
    "deletable": false,
    "editable": false
   },
   "source": [
    "### *P4_11.  \n",
    "Escribe un programa que lea una cadena de caracteres **c**. El programa construirá una nueva cadena **s** con los mismos caracteres de **c** ordenados de manera que las mayúsculas vayan primero.  \n",
    "Ejemplo: \n",
    "\n",
    "~~~\n",
    "Introduce una cadena de caracteres: zCHnsTrcA   \n",
    "La nueva cadena es: CHTAznsrc  \n",
    "~~~\n",
    "\n"
   ]
  },
  {
   "cell_type": "code",
   "execution_count": null,
   "metadata": {},
   "outputs": [],
   "source": [
    "# Este programa ordena una cadena introducida poniendo primero las mayúsculas.\n",
    "c= input ('Introduce una cadena de caracteres:')\n",
    "mayuscula = 'ABCDEFGHIJKLMNÑOPQRSTUVWXYZ'\n",
    "minuscula = 'abcdefghijklmnñopqrstuvwxyz'\n",
    "a=''\n",
    "b=''\n",
    "for i in c:\n",
    "    if i in mayuscula:\n",
    "        a+=i\n",
    "    if i in minuscula:\n",
    "        b+=i\n",
    "s=a+b\n",
    "print ('La nueva cadena es:', s)"
   ]
  },
  {
   "cell_type": "code",
   "execution_count": null,
   "metadata": {},
   "outputs": [],
   "source": []
  }
 ],
 "metadata": {
  "kernelspec": {
   "display_name": "Python 3",
   "language": "python",
   "name": "python3"
  },
  "language_info": {
   "codemirror_mode": {
    "name": "ipython",
    "version": 3
   },
   "file_extension": ".py",
   "mimetype": "text/x-python",
   "name": "python",
   "nbconvert_exporter": "python",
   "pygments_lexer": "ipython3",
   "version": "3.6.5"
  }
 },
 "nbformat": 4,
 "nbformat_minor": 2
}
