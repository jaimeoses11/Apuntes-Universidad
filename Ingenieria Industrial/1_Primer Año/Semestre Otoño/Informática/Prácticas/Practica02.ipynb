{
 "cells": [
  {
   "cell_type": "markdown",
   "metadata": {
    "deletable": false,
    "editable": false
   },
   "source": [
    "# Práctica 02. Sentencias alternativas. "
   ]
  },
  {
   "cell_type": "markdown",
   "metadata": {
    "deletable": false,
    "editable": false
   },
   "source": [
    "### Recuerda que para realizar estos ejecicios deberás usar las sentencias *if*, *if_else* y *elif*."
   ]
  },
  {
   "cell_type": "markdown",
   "metadata": {
    "deletable": false,
    "editable": false
   },
   "source": [
    "# Índice de ejercicios\n",
    "\n",
    "[P2_01. Valor absoluto](#P2_01.)  \n",
    "[P2_02. Número par](#P2_02.)  \n",
    "[P2_03. Mayor número](#P2_03.)  \n",
    "[P2_04. Mayor y menor](#*P2_04.)  \n",
    "[P2_05. Intervalo](#P2_05.)  \n",
    "[P2_06. Menú](#P2_06.)  \n",
    "[P2_07. Asignar estudiantes](#*P2_07.)  \n",
    "[P2_08. Operaciones aritméticas](#*P2_08.)  \n",
    "[P2_09. Empresa de mensajería](#*P2_09.)  \n",
    "[P2_10. Día de la semana](#P2_10.)  \n",
    "[P2_11. Día laborable](#*P2_11.)  \n",
    "[P2_12. Número suma de otros dos](#*P2_12.)  "
   ]
  },
  {
   "cell_type": "markdown",
   "metadata": {
    "deletable": false,
    "editable": false
   },
   "source": [
    "### P2_01.  \n",
    "Escribe un programa que lea un número desde teclado y muestre su valor absoluto. Para realizar este programa no se puede usar la función *abs*.  \n",
    "Ejemplo:  \n",
    "~~~\n",
    "Por favor, introduce un número: -4\n",
    "Su valor absoluto es 4\n",
    "~~~\n"
   ]
  },
  {
   "cell_type": "code",
   "execution_count": 2,
   "metadata": {},
   "outputs": [
    {
     "name": "stdout",
     "output_type": "stream",
     "text": [
      "Por favor, introduce un número: 4\n",
      "Su valor absoluo es  4\n"
     ]
    }
   ],
   "source": [
    "#Este programa pide un número y muestra su valor absoluto\n",
    "n = int (input('Por favor, introduce un número: '))\n",
    "if n<0:\n",
    "    n=n*(-1)\n",
    "    print ('Su valor absoluo es ', n)\n",
    "else:\n",
    "    print ('Su valor absoluo es ', n)"
   ]
  },
  {
   "cell_type": "markdown",
   "metadata": {
    "deletable": false,
    "editable": false
   },
   "source": [
    "### P2_02.  \n",
    "Escribe un programa que almacene un entero y, en caso de que sea par,  nos muestre un mensaje. Si el número es impar, no es necesario mostrar ningún mensaje.  \n",
    "Ejemplo:  \n",
    "~~~\n",
    "Por favor, introduce un número: 4\n",
    "El número 4 es par\n",
    "~~~\n"
   ]
  },
  {
   "cell_type": "code",
   "execution_count": 26,
   "metadata": {},
   "outputs": [
    {
     "name": "stdout",
     "output_type": "stream",
     "text": [
      "Por favor, introduce un número: 2\n",
      "El número 2 es par\n"
     ]
    }
   ],
   "source": [
    "#Este programa pide un número y dice si es par\n",
    "n = int (input ('Por favor, introduce un número: '))\n",
    "if n%2==0:\n",
    "    print ('El número {} es par' .format(n))"
   ]
  },
  {
   "cell_type": "markdown",
   "metadata": {
    "deletable": false,
    "editable": false
   },
   "source": [
    "### P2_03.  \n",
    "Escribe un programa que almacene tres números, **a, b y c** y nos diga cuál es el mayor.  \n",
    "Ejemplo:  \n",
    "~~~\n",
    "Por favor, escribe un número: 4 \n",
    "escribe otro número: 2\n",
    "escribe el tercero: 4\n",
    "El mayor es el 4\n",
    "~~~"
   ]
  },
  {
   "cell_type": "code",
   "execution_count": 28,
   "metadata": {},
   "outputs": [
    {
     "name": "stdout",
     "output_type": "stream",
     "text": [
      "Por favor, escribe un número:-1\n",
      "escribe otro número:-3\n",
      "escribe el tercero:-2\n",
      "El mayor es el -1.0\n"
     ]
    }
   ],
   "source": [
    "# Este programa nos pide 3 números y nos dice cual es mayor\n",
    "a = float (input('Por favor, escribe un número:'))\n",
    "b = float (input('escribe otro número:'))\n",
    "c = float (input('escribe el tercero:'))\n",
    "if a>b and a>c:\n",
    "    print ('El mayor es el {}'.format(a))\n",
    "elif b>a and b>c:\n",
    "    print ('El mayor es el {}'.format(b))\n",
    "elif c>a and c>b:\n",
    "    print ('El mayor es el {}'.format(c))"
   ]
  },
  {
   "cell_type": "markdown",
   "metadata": {
    "deletable": false,
    "editable": false
   },
   "source": [
    "### *P2_04. \n",
    "Escribe un programa que almacene tres números, **a, b y c** y nos diga cuáles son el mayor y el menor.  \n",
    "Ejemplo:  \n",
    "~~~\n",
    "Por favor, escribe un número: 4 \n",
    "escribe otro número: 2\n",
    "escribe el tercero: 4\n",
    "El mayor es el 4 y el menor el 2\n",
    "~~~\n",
    "\n",
    "    "
   ]
  },
  {
   "cell_type": "code",
   "execution_count": 6,
   "metadata": {},
   "outputs": [
    {
     "name": "stdout",
     "output_type": "stream",
     "text": [
      "Por favor, escribe un número:2\n",
      "escribe otro número:1\n",
      "escribe el tercero:3\n",
      "El mayor es el 3.0 y el menor el 1.0\n"
     ]
    }
   ],
   "source": [
    "# Este programa nos pide 3 números y nos dice cuales son el mayor y el menor\n",
    "a = float (input('Por favor, escribe un número:'))\n",
    "b = float (input('escribe otro número:'))\n",
    "c = float (input('escribe el tercero:'))\n",
    "if a>b and a>c:\n",
    "    if b<c:\n",
    "        print ('El mayor es el {} y el menor el {}'.format(a,b))\n",
    "    else:\n",
    "         print ('El mayor es el {} y el menor el {}'.format(a,c))       \n",
    "elif b>a and b>c:\n",
    "    if a<c:\n",
    "        print ('El mayor es el {} y el menor el {}'.format(b,a))\n",
    "    else:\n",
    "        print ('El mayor es el {} y el menor el {}'.format(b,c))\n",
    "elif c>a and c>b:\n",
    "    if a<b:\n",
    "        print ('El mayor es el {} y el menor el {}'.format(c,a))\n",
    "    else:\n",
    "        print ('El mayor es el {} y el menor el {}'.format(c,b))"
   ]
  },
  {
   "cell_type": "markdown",
   "metadata": {
    "deletable": false,
    "editable": false
   },
   "source": [
    "### P2_05.  \n",
    "Escribe un programa que almacene tres números reales, **a, b** y **v**. Deberá mostrar un mensaje indicando si **v** está incluido en el intervalo formado por **a** y **b**. Ten en cuenta que en principio no sabremos si el intervalo es el  **[a, b]** o el **[b, a]**.   \n",
    "Ejemplo:  \n",
    "~~~\n",
    "Por favor, escribe un extremo del intervalo: 4.32\n",
    "Introduce el otro extremo: 1.78\n",
    "Introduce el número a comprobar: 4.12\n",
    "El numero 4.12 está en el intervalo [1.78, 4.32]\n",
    "~~~  "
   ]
  },
  {
   "cell_type": "code",
   "execution_count": 1,
   "metadata": {},
   "outputs": [
    {
     "name": "stdout",
     "output_type": "stream",
     "text": [
      "Por favor, escribe un extremo del intervalo:7\n",
      "Introduce el otro extremo:4\n",
      "Introduce el número a comprobar:6\n",
      "El número 6.0 está en el intervalo [4.0, 7.0]\n"
     ]
    }
   ],
   "source": [
    "# Este programa dice si un número está incluido en un intervalo introducido\n",
    "a = float (input('Por favor, escribe un extremo del intervalo:'))\n",
    "b = float (input('Introduce el otro extremo:'))\n",
    "v = float (input('Introduce el número a comprobar:'))\n",
    "if a<b:\n",
    "    if a<=v and v<=b:\n",
    "        print ('El número {} está en el intervalo [{}, {}]'.format(v,a,b))\n",
    "    else:\n",
    "         print ('El número {} no está en el intervalo [{}, {}]'.format(v,a,b))\n",
    "elif b<a:\n",
    "    if b<=v and v<=a:\n",
    "        print ('El número {} está en el intervalo [{}, {}]'.format(v,b,a))\n",
    "    else:\n",
    "         print ('El número {} no está en el intervalo [{}, {}]'.format(v,b,a))"
   ]
  },
  {
   "cell_type": "markdown",
   "metadata": {
    "deletable": false,
    "editable": false
   },
   "source": [
    "### P2_06.  \n",
    "Escribe un programa que muestre un menú con las siguientes cuatro opciones: \n",
    "~~~\n",
    "a. Añadir  \n",
    "b. Borrar  \n",
    "c. Ordenar\n",
    "d. Imprimir\n",
    "Introduce la opción:\n",
    "~~~\n",
    "\n",
    "El programa debe mostrar la opción seleccionada. Si el carácter introducido no es válido, el programa nos lo indicará mostrando un mensaje de error.  \n",
    "Ejemplo:   \n",
    "~~~\n",
    "Introduce una opción: b \n",
    "La opción seleccionada es Borrar\n",
    "~~~\n",
    "Ejemplo: \n",
    "~~~\n",
    "Introduce una opción: j\n",
    "La opción seleccionada NO es válida\n",
    "\n",
    "~~~\n",
    "\n",
    "    "
   ]
  },
  {
   "cell_type": "code",
   "execution_count": 49,
   "metadata": {},
   "outputs": [
    {
     "name": "stdout",
     "output_type": "stream",
     "text": [
      "a. Añadir\n",
      "b. Borrar\n",
      "c. Ordenar\n",
      "d. Imprimir\n",
      "Introduce la opcion: j\n",
      "La opción seleccionada NO es válida\n"
     ]
    }
   ],
   "source": [
    "# Este programa nos da una serie de opciones y muestra por pantalla la que has elegido\n",
    "print ('a. Añadir')\n",
    "print ('b. Borrar')\n",
    "print ('c. Ordenar')\n",
    "print ('d. Imprimir')\n",
    "n = input ('Introduce la opcion:')\n",
    "if n == 'a':\n",
    "    print ('La opción seleccionada es Añadir')\n",
    "elif n == 'b':\n",
    "    print ('La opción seleccionada es Borrar')\n",
    "elif n == 'c':\n",
    "    print ('La opción seleccionada es Ordenar')\n",
    "elif n == 'd':\n",
    "    print ('La opción seleccionada es Imprimir')\n",
    "else: \n",
    "    print ('La opción seleccionada NO es válida')"
   ]
  },
  {
   "cell_type": "markdown",
   "metadata": {
    "deletable": false,
    "editable": false
   },
   "source": [
    "### *P2_07.  \n",
    "Escribe un programa que lea un carácter que represente la inicial del apellido de un estudiante. El programa tiene que mostrar el aula del estudiante según la siguiente tabla:\n",
    "~~~\n",
    "Apellidos desde la A a la F -> Aula 1\n",
    "Apellidos desde la G a la J -> Aula 2\n",
    "Apellidos desde la K a la Ñ -> Aula 3\n",
    "Apellidos desde la O a la Z -> Aula 4\n",
    "~~~\n",
    "Si el carácter introducido no se corresponde con un carácter alfabético, el programa mostrará un mensaje de error indicando que el carácter es inválido. Ten en cuenta que la inicial puede ser introducida en minúsculas o mayúsculas.  \n",
    "Ejemplo:  \n",
    "~~~\n",
    "Introduce la inicial del apellido: B \n",
    "El aula del estudiante es la número 1\n",
    "~~~"
   ]
  },
  {
   "cell_type": "code",
   "execution_count": 9,
   "metadata": {},
   "outputs": [
    {
     "name": "stdout",
     "output_type": "stream",
     "text": [
      "Introduce la inicial del apellido:O\n",
      "El aula del estudiante es la número 4\n"
     ]
    }
   ],
   "source": [
    "# Este programa pide la primera letra del apellido y asigna una clase\n",
    "n = input ('Introduce la inicial del apellido:')\n",
    "if (n >= 'a' and n <= 'f') or (n >= 'A' and n <= 'F'):\n",
    "    print ('El aula del estudiante es la número 1')\n",
    "elif (n >= 'g' and n <= 'j') or (n >= 'G' and n <= 'J'):\n",
    "    print ('El aula del estudiante es la número 2')\n",
    "elif (n >= 'k' and n < 'o') or (n >= 'K' and n < 'O'):\n",
    "    print ('El aula del estudiante es la número 3')\n",
    "elif (n >= 'o' and n <= 'z') or (n >= 'O' and n <= 'Z'):\n",
    "    print ('El aula del estudiante es la número 4')"
   ]
  },
  {
   "cell_type": "markdown",
   "metadata": {
    "deletable": false,
    "editable": false
   },
   "source": [
    "### *P2_08.  \n",
    "Escribe un programa que lea dos números reales **a, b** y un carácter operación. El programa debe mostrar el resultado de aplicar la operación especificada anteriormente a los números **a** y **b**. Las posibles operaciones se restringen a los caracteres ’+’, ’-’, ’*’ y  ’/’.  \n",
    "Ejemplo: \n",
    "~~~\n",
    "Por favor, escribe un número: 4.4\n",
    "Escribe otro número: 2\n",
    "Por favor, escribe una operación: *\n",
    "El resultado de la operación 4.4 * 2.0 es 8.80\n",
    "~~~\n",
    "\n",
    "    "
   ]
  },
  {
   "cell_type": "code",
   "execution_count": 68,
   "metadata": {},
   "outputs": [
    {
     "name": "stdout",
     "output_type": "stream",
     "text": [
      "Por favor, introduce un número:1\n",
      "Por favor, introduce otro número:2\n",
      "Por favor, escribe una operación de las siguientes (’+’, ’-’, ’*’ y ’/’.):/\n",
      "El resultado de la operación 1.0 / 2.0 es 0.5\n"
     ]
    }
   ],
   "source": [
    "# Este programa nos pide introducir 2 números y la operacion que queremos hacer\n",
    "a = float (input ('Por favor, introduce un número:'))\n",
    "b = float (input ('Por favor, introduce otro número:'))\n",
    "o = input ('Por favor, escribe una operación de las siguientes (’+’, ’-’, ’*’ y ’/’.):')\n",
    "if o == '+':\n",
    "    print ('El resultado de la operación {} {} {} es {}'.format(a,o,b,a+b))\n",
    "elif o == '-':\n",
    "    print ('El resultado de la operación {} {} {} es {}'.format(a,o,b,a-b))\n",
    "elif o == '*':\n",
    "    print ('El resultado de la operación {} {} {} es {}'.format(a,o,b,a*b))\n",
    "elif o == '/':\n",
    "    print ('El resultado de la operación {} {} {} es {}'.format(a,o,b,a/b))"
   ]
  },
  {
   "cell_type": "markdown",
   "metadata": {
    "deletable": false,
    "editable": false
   },
   "source": [
    "### *P2_09.  \n",
    "Una empresa de mensajería factura a sus clientes por volumen y peso según las siguientes reglas:  \n",
    "* Con respecto al volumen (v):  \n",
    "    * Si v es menor o igual que 5 m3 -> 3€;  \n",
    "    * Si v está entre 5 y 10 m3 -> 5€;  \n",
    "    * Si v es mayor que 10 m3 -> 0.5€ por m3.  \n",
    "* Con respecto al peso (p):\n",
    "    * Si p es menor o igual que 2 kg -> 1.7€ por kg;\n",
    "    * Si p mayor que 2 kg -> 1.9€ por kg.\n",
    "\n",
    "En cualquier caso, la empresa siempre toma la opción de facturación que produce el mayor precio posible.\n",
    "Escribe un programa que lea desde teclado los datos del paquete (largo, ancho, alto y peso) y calcule la cantidad que debe pagar el cliente.  \n",
    "Ejemplo: \n",
    "~~~\n",
    "Introduce las dimensiones del paquete (en metros) \n",
    "largo: 1  \n",
    "ancho: 1   \n",
    "alto: 1  \n",
    "Introduce su peso (en kilos): 2\n",
    "El precio del envío es 3.4€\n",
    "~~~\n",
    "Ejemplo: \n",
    "~~~\n",
    "Introduce las dimensiones del paquete (en metros)\n",
    "largo: 2  \n",
    "ancho: 2   \n",
    "alto: 2 \n",
    "Introduce su peso (en kilos): 2\n",
    "El precio del envío es 5€\n",
    "~~~\n",
    "    "
   ]
  },
  {
   "cell_type": "code",
   "execution_count": 71,
   "metadata": {},
   "outputs": [
    {
     "name": "stdout",
     "output_type": "stream",
     "text": [
      "Introduce las dimesiones del paquete (en metros)\n",
      "Largo:2\n",
      "Ancho:2\n",
      "Alto:2\n",
      "Introduce su peso (en kilos):2\n",
      "El precio del envío es 8.4€\n"
     ]
    }
   ],
   "source": [
    "# Este programa nos pide largo, ancho, alto y peso de una caja y nos diga cuanto cuesta el envío\n",
    "print ('Introduce las dimesiones del paquete (en metros)')\n",
    "l = float (input ('Largo:'))\n",
    "a = float (input ('Ancho:'))\n",
    "h = float (input ('Alto:'))\n",
    "p = float (input ('Introduce su peso (en kilos):'))\n",
    "volumen = l*a*h\n",
    "if volumen <= 5:\n",
    "    if p<=2:\n",
    "        print ('El precio del envío es {}€'.format(3 + p*1.7))\n",
    "    else:\n",
    "        print ('El precio del envío es {}€'.format(3 + p*1.9))\n",
    "elif volumen > 5 and volumen < 10:\n",
    "    if p<=2:\n",
    "        print ('El precio del envío es {}€'.format(5 + p*1.7))\n",
    "    else:\n",
    "        print ('El precio del envío es {}€'.format(5 + p*1.9))\n",
    "elif volumen >= 10:\n",
    "    if p<=2:\n",
    "        print ('El precio del envío es {}€'.format(volumen*0.5 + p*1.7))\n",
    "    else:\n",
    "        print ('El precio del envío es {}€'.format(volumen*0.5 + p*1.9))    "
   ]
  },
  {
   "cell_type": "markdown",
   "metadata": {
    "deletable": false,
    "editable": false
   },
   "source": [
    "### P2_10.  \n",
    "Escribe un programa que lea un entero desde teclado y muestre en la pantalla el día de la semana correspondiente a dicho número. Si el número es mayor que 7, el programa nos indicará que no es un día de la semana.  \n",
    "Ejemplo: \n",
    "~~~\n",
    "Por favor, escribe un número: 2\n",
    "Es martes\n",
    "~~~\n",
    "Ejemplo: \n",
    "~~~\n",
    "Por favor, escribe un número: 8\n",
    "No se corresponde con un día de la semana\n",
    "~~~\n",
    "    "
   ]
  },
  {
   "cell_type": "code",
   "execution_count": 10,
   "metadata": {},
   "outputs": [
    {
     "name": "stdout",
     "output_type": "stream",
     "text": [
      "Por favor, escribe un número:9\n",
      "No se corresponde con un día de la semana\n"
     ]
    }
   ],
   "source": [
    "# Este programa pide un número y dice a que día de la semana se corresponde\n",
    "n = int (input('Por favor, escribe un número:'))\n",
    "if n == 1:\n",
    "    print ('Es lunes')\n",
    "elif n == 2:\n",
    "    print ('Es martes')\n",
    "elif n == 3:\n",
    "    print ('Es miércoles')\n",
    "elif n == 4:\n",
    "    print ('Es jueves')    \n",
    "elif n == 5:\n",
    "    print ('Es viernes')\n",
    "elif n == 6:\n",
    "    print ('Es sabado')\n",
    "elif n == 7:\n",
    "    print ('Es domingo')\n",
    "else:\n",
    "    print ('No se corresponde con un día de la semana')"
   ]
  },
  {
   "cell_type": "markdown",
   "metadata": {
    "deletable": false,
    "editable": false
   },
   "source": [
    "### *P2_11.  \n",
    "Escribe un programa que lea un entero desde teclado y muestre en la pantalla si el día de la semana correspondiente a dicho número es laborable o no. Si el número es mayor que 7, el programa nos indicará que no es un día de la semana.   \n",
    "Ejemplo: \n",
    "~~~\n",
    "Por favor, escribe un número: 6\n",
    "NO es un día laborable\n",
    "~~~\n",
    "Ejemplo: \n",
    "~~~\n",
    "Por favor, escribe un número: 2\n",
    "Es un día laborable\n",
    "~~~\n",
    "Ejemplo: \n",
    "~~~\n",
    "Por favor, escribe un número: 8\n",
    "No se corresponde con un día de la semana\n",
    "~~~"
   ]
  },
  {
   "cell_type": "code",
   "execution_count": 16,
   "metadata": {},
   "outputs": [
    {
     "name": "stdout",
     "output_type": "stream",
     "text": [
      "Por favor, escribe un número:7\n",
      "NO es un día laborable\n"
     ]
    }
   ],
   "source": [
    "# Este programa pide un número y dice si es un día laborable o no\n",
    "n = int (input('Por favor, escribe un número:'))\n",
    "if n >= 1 and n<=5:\n",
    "    print ('Es un día laborable')\n",
    "elif n >= 5 and n<=7:\n",
    "    print ('NO es un día laborable')\n",
    "else:\n",
    "    print ('No se corresponde con un día de la semana')"
   ]
  },
  {
   "cell_type": "markdown",
   "metadata": {
    "deletable": false,
    "editable": false
   },
   "source": [
    "### *P2_12.  \n",
    "Escribe un programa que lea tres números enteros y nos diga si alguno es la suma de los otros dos. En el caso de que así sea, el programa debe mostrar los números ordenados de forma que se obtenga el resultado.  \n",
    "Ejemplo: \n",
    "~~~\n",
    "Por favor, introduce tres enteros: 1 2 4\n",
    "Ninguno es la suma de los otros dos\n",
    "~~~\n",
    "Ejemplo: \n",
    "~~~\n",
    "Por favor, introduce tres enteros: 3 1 2\n",
    "1 + 2 = 3\n",
    "~~~"
   ]
  },
  {
   "cell_type": "code",
   "execution_count": 23,
   "metadata": {},
   "outputs": [
    {
     "name": "stdout",
     "output_type": "stream",
     "text": [
      "Por favor, introduce un número entero:3\n",
      "Introduce el segundo número entero:1\n",
      "Introduce el tercer número entero:2\n",
      "1+2=3\n"
     ]
    }
   ],
   "source": [
    "# Este programa pide 3 números y dice si uno es la suma de los otros 2\n",
    "a = int (input('Por favor, introduce un número entero:'))\n",
    "b = int (input('Introduce el segundo número entero:'))\n",
    "c = int (input('Introduce el tercer número entero:'))\n",
    "if a==b+c and b<c:\n",
    "    print ('{}+{}={}'.format(b,c,a))\n",
    "elif a==b+c and b>c:\n",
    "    print ('{}+{}={}'.format(c,b,a))\n",
    "elif b==a+c and a<c:\n",
    "    print ('{}+{}={}'.format(a,c,b))\n",
    "elif b==a+c and a>c:\n",
    "    print ('{}+{}={}'.format(c,a,b))    \n",
    "elif c==a+b and a<b:\n",
    "    print ('{}+{}={}'.format(a,b,c))\n",
    "elif c==a+b and a>b:\n",
    "    print ('{}+{}={}'.format(b,a,c))\n",
    "else:\n",
    "    print ('Ninguno es la suma de los otros dos')"
   ]
  },
  {
   "cell_type": "code",
   "execution_count": null,
   "metadata": {},
   "outputs": [],
   "source": []
  }
 ],
 "metadata": {
  "kernelspec": {
   "display_name": "Python 3",
   "language": "python",
   "name": "python3"
  },
  "language_info": {
   "codemirror_mode": {
    "name": "ipython",
    "version": 3
   },
   "file_extension": ".py",
   "mimetype": "text/x-python",
   "name": "python",
   "nbconvert_exporter": "python",
   "pygments_lexer": "ipython3",
   "version": "3.6.5"
  }
 },
 "nbformat": 4,
 "nbformat_minor": 2
}
